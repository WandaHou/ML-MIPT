{
 "cells": [
  {
   "cell_type": "code",
   "execution_count": 1,
   "id": "b0825a41-2749-4cd7-aca5-23e995cd52d2",
   "metadata": {},
   "outputs": [],
   "source": [
    "from simulator import blogm, bSqc, Neg, Sa\n",
    "from mpo import tel_mpo\n",
    "import torch\n",
    "from math import prod\n",
    "from functools import reduce\n",
    "import pandas\n",
    "from utils import dtype, device, pauli, basis, torch_data"
   ]
  },
  {
   "cell_type": "code",
   "execution_count": 2,
   "id": "b86ee1a7-a7b8-4b18-9671-c08a589b4205",
   "metadata": {},
   "outputs": [
    {
     "data": {
      "text/plain": [
       "6800"
      ]
     },
     "execution_count": 2,
     "metadata": {},
     "output_type": "execute_result"
    }
   ],
   "source": [
    "seed = 0\n",
    "train, test = False, True\n",
    "file = f'seed{seed}'\n",
    "train_ratio = 8/9\n",
    "batch = 500\n",
    "\n",
    "mdl = tel_mpo(34, bond=10)\n",
    "total=0 # find size of the model\n",
    "for p in mdl.parameters():\n",
    "    total+=prod(p.shape)\n",
    "total#, True_fid(mdl, psi)"
   ]
  },
  {
   "cell_type": "code",
   "execution_count": 3,
   "id": "75fbbf84-c0ed-4d4a-a66c-06a80339b5d9",
   "metadata": {
    "tags": []
   },
   "outputs": [
    {
     "name": "stdout",
     "output_type": "stream",
     "text": [
      "==================================================   Test   ==================================================\n",
      "epoch:    0 | step:   99 | N:  4 | test Sqc: 0.3515 | test Neg: 0.4203\n",
      "epoch:    0 | step:  199 | N:  4 | test Sqc: 0.3657 | test Neg: 0.4145\n",
      "==================================================   Test   ==================================================\n",
      "epoch:    0 | step:   99 | N:  6 | test Sqc: 0.3963 | test Neg: 0.4073\n",
      "epoch:    0 | step:  199 | N:  6 | test Sqc: 0.4094 | test Neg: 0.4028\n",
      "==================================================   Test   ==================================================\n",
      "epoch:    0 | step:   99 | N:  8 | test Sqc: 0.5226 | test Neg: 0.3698\n",
      "epoch:    0 | step:  199 | N:  8 | test Sqc: 0.5207 | test Neg: 0.3695\n",
      "==================================================   Test   ==================================================\n",
      "epoch:    0 | step:   99 | N:  10 | test Sqc: 0.6314 | test Neg: 0.3313\n",
      "epoch:    0 | step:  199 | N:  10 | test Sqc: 0.6347 | test Neg: 0.3293\n",
      "==================================================   Test   ==================================================\n",
      "epoch:    0 | step:   99 | N:  12 | test Sqc: 0.7272 | test Neg: 0.2954\n",
      "epoch:    0 | step:  199 | N:  12 | test Sqc: 0.7248 | test Neg: 0.2948\n",
      "==================================================   Test   ==================================================\n",
      "epoch:    0 | step:   99 | N:  14 | test Sqc: 0.7338 | test Neg: 0.2931\n",
      "epoch:    0 | step:  199 | N:  14 | test Sqc: 0.7476 | test Neg: 0.2852\n",
      "==================================================   Test   ==================================================\n",
      "epoch:    0 | step:   99 | N:  16 | test Sqc: 0.7923 | test Neg: 0.2677\n",
      "epoch:    0 | step:  199 | N:  16 | test Sqc: 0.8025 | test Neg: 0.2625\n",
      "==================================================   Test   ==================================================\n",
      "epoch:    0 | step:   99 | N:  18 | test Sqc: 0.8436 | test Neg: 0.2433\n",
      "epoch:    0 | step:  199 | N:  18 | test Sqc: 0.8468 | test Neg: 0.2400\n",
      "==================================================   Test   ==================================================\n",
      "epoch:    0 | step:   99 | N:  20 | test Sqc: 0.9153 | test Neg: 0.2065\n",
      "epoch:    0 | step:  199 | N:  20 | test Sqc: 0.9178 | test Neg: 0.2055\n",
      "==================================================   Test   ==================================================\n",
      "epoch:    0 | step:   99 | N:  22 | test Sqc: 0.9824 | test Neg: 0.1694\n",
      "epoch:    0 | step:  199 | N:  22 | test Sqc: 0.9776 | test Neg: 0.1710\n",
      "==================================================   Test   ==================================================\n",
      "epoch:    0 | step:   99 | N:  24 | test Sqc: 1.0288 | test Neg: 0.1479\n",
      "epoch:    0 | step:  199 | N:  24 | test Sqc: 1.0246 | test Neg: 0.1491\n",
      "==================================================   Test   ==================================================\n",
      "epoch:    0 | step:   99 | N:  26 | test Sqc: 1.0550 | test Neg: 0.1330\n",
      "epoch:    0 | step:  199 | N:  26 | test Sqc: 1.0532 | test Neg: 0.1323\n",
      "==================================================   Test   ==================================================\n",
      "epoch:    0 | step:   99 | N:  28 | test Sqc: 1.0720 | test Neg: 0.1231\n",
      "epoch:    0 | step:  199 | N:  28 | test Sqc: 1.0788 | test Neg: 0.1185\n",
      "==================================================   Test   ==================================================\n",
      "epoch:    0 | step:   99 | N:  30 | test Sqc: 1.1013 | test Neg: 0.1021\n",
      "epoch:    0 | step:  199 | N:  30 | test Sqc: 1.0930 | test Neg: 0.1066\n",
      "==================================================   Test   ==================================================\n",
      "epoch:    0 | step:   99 | N:  32 | test Sqc: 1.1126 | test Neg: 0.0929\n",
      "epoch:    0 | step:  199 | N:  32 | test Sqc: 1.1132 | test Neg: 0.0919\n",
      "==================================================   Test   ==================================================\n",
      "epoch:    0 | step:   99 | N:  34 | test Sqc: 1.1534 | test Neg: 0.0666\n",
      "epoch:    0 | step:  199 | N:  34 | test Sqc: 1.1419 | test Neg: 0.0683\n"
     ]
    }
   ],
   "source": [
    "for N in range(4, 36, 2):\n",
    "    torch.manual_seed(seed)\n",
    "    prepseq, shadow_state, rhoS = torch_data(f'../data/data_{N}na.pickle', shuffle=True)\n",
    "    train_size = int(prepseq.shape[0]*train_ratio)\n",
    "    test_size = prepseq.shape[0]-train_size\n",
    "    \n",
    "    prepseq_train, prepseq_test = prepseq[:train_size], prepseq[train_size:]\n",
    "    shadow_state_train, shadow_state_test = shadow_state[:train_size], shadow_state[train_size:]\n",
    "    rhoS_train, rhoS_test = rhoS[:train_size], rhoS[train_size:]\n",
    "    \n",
    "    # split in batches\n",
    "    prepseq_train = prepseq_train.view(-1, batch, N-2)\n",
    "    shadow_state_train = shadow_state_train.view(-1, batch, 4)\n",
    "    rhoS_train = rhoS_train.view(-1, batch, 4, 4)\n",
    "\n",
    "    prepseq_test = prepseq_test.view(-1, batch, N-2)\n",
    "    shadow_state_test = shadow_state_test.view(-1, batch, 4)\n",
    "    rhoS_test = rhoS_test.view(-1, batch, 4, 4)\n",
    "    \n",
    "    # load new model\n",
    "    # if N == 4:\n",
    "    #     mdl = tel_mpo(34, bond=10)\n",
    "    # else:\n",
    "    #     mdl.load_state_dict(torch.load(f'{file}/models/mpo_N={N-2}_na.pt'))\n",
    "    \n",
    "    # load old model\n",
    "    mdl.load_state_dict(torch.load(f'{file}/models/mpo_N={N}_na.pt'))\n",
    "    \n",
    "    optimizer = torch.optim.Adam(mdl.parameters(), lr=1e-3) # 0.0001\n",
    "    l = {'train Sqc':[], 'test Sqc':[], 'test Neg':[], 'test Sa':[], 'loss':[]}\n",
    "    \n",
    "    for epoch in range(1):\n",
    "        # Train\n",
    "        if train:\n",
    "            print('='*50+'   Train   '+'='*50)\n",
    "            mdl.train()\n",
    "            for i in range(prepseq_train.shape[0]):\n",
    "                rhoC = mdl(prepseq_train[i])\n",
    "                l['train Sqc'].append(bSqc(rhoS_train[i], rhoC).mean().item())\n",
    "                optimizer.zero_grad()\n",
    "                probs = torch.bmm(torch.bmm(shadow_state_train[i].unsqueeze(1), rhoC), shadow_state_train[i].conj().unsqueeze(-1)).view(-1).real\n",
    "                loss = -probs.log().mean()\n",
    "                loss.backward()\n",
    "                optimizer.step()\n",
    "                l['loss'].append(loss.item())\n",
    "                if (i+1)%100 == 0:\n",
    "                    trainS = torch.tensor(l['train Sqc'])[-i:].mean().item()\n",
    "                    loss = torch.tensor(l['loss'])[-i:].mean().item()\n",
    "                    print('epoch:  %3d | step:  %3d | N:  %d | train Sqc: %.4f | loss: %.4f' %(epoch, i, N, trainS, loss))\n",
    "        # Test\n",
    "        if test:\n",
    "            with torch.no_grad():\n",
    "                print('='*50+'   Test   '+'='*50)\n",
    "                mdl.eval()\n",
    "                for i in range(prepseq_test.shape[0]):\n",
    "                    rhoC = mdl(prepseq_test[i])\n",
    "                    l['test Sqc'].append(bSqc(rhoS_test[i], rhoC).mean().item())\n",
    "                    l['test Neg'].append(Neg(rhoS_test[i], rhoC).mean().item())\n",
    "                    l['test Sa'].append(Sa(rhoS_test[i], rhoC).mean().item())\n",
    "                    if (i+1)%100 == 0:\n",
    "                        testS = torch.tensor(l['test Sqc'])[-i:].mean().item()\n",
    "                        testN = torch.tensor(l['test Neg'])[-i:].mean().item()\n",
    "                        print('epoch:  %3d | step:  %3d | N:  %d | test Sqc: %.4f | test Neg: %.4f' %(epoch, i, N, testS, testN))\n",
    "        torch.save(l, f'{file}/record/mpo_N={N}_na.pt')\n",
    "        torch.save(mdl.state_dict(), f'{file}/models/mpo_N={N}_na.pt')"
   ]
  },
  {
   "cell_type": "code",
   "execution_count": null,
   "id": "d432cd1f-ac10-4812-845e-19e3555c413a",
   "metadata": {},
   "outputs": [],
   "source": []
  }
 ],
 "metadata": {
  "kernelspec": {
   "display_name": "Python 3 (ipykernel)",
   "language": "python",
   "name": "python3"
  },
  "language_info": {
   "codemirror_mode": {
    "name": "ipython",
    "version": 3
   },
   "file_extension": ".py",
   "mimetype": "text/x-python",
   "name": "python",
   "nbconvert_exporter": "python",
   "pygments_lexer": "ipython3",
   "version": "3.10.9"
  }
 },
 "nbformat": 4,
 "nbformat_minor": 5
}
