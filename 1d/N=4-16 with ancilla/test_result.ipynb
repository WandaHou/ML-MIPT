{
 "cells": [
  {
   "cell_type": "code",
   "execution_count": 1,
   "id": "bf1e009b-bb23-4d8b-a09e-e5e3bf92e14f",
   "metadata": {},
   "outputs": [],
   "source": [
    "import torch\n",
    "from simulator import blogm, bSqc, Neg, Sa\n",
    "%run 'utils.py'"
   ]
  },
  {
   "cell_type": "markdown",
   "id": "46fec8b8-e54a-4e51-bee7-53c2546a4e2b",
   "metadata": {},
   "source": [
    "## load test result"
   ]
  },
  {
   "cell_type": "code",
   "execution_count": 7,
   "id": "6c317938-40ff-4fed-bec9-fb417a3a9680",
   "metadata": {},
   "outputs": [
    {
     "data": {
      "text/plain": [
       "[[4, 0.37293559312820435, 0.4144977629184723, 0.6910765767097473],\n",
       " [6, 0.4041719138622284, 0.40549445152282715, 0.6902521252632141],\n",
       " [8, 0.4909408688545227, 0.3823964595794678, 0.694428026676178],\n",
       " [10, 0.4945811927318573, 0.37955597043037415, 0.6941173076629639],\n",
       " [12, 0.5601881146430969, 0.3584675192832947, 0.6951113939285278],\n",
       " [14, 0.6608949899673462, 0.32349127531051636, 0.6954890489578247],\n",
       " [16, 0.6998947262763977, 0.30740034580230713, 0.6948459148406982]]"
      ]
     },
     "execution_count": 7,
     "metadata": {},
     "output_type": "execute_result"
    }
   ],
   "source": [
    "# MPO no ancilla\n",
    "\n",
    "seed = 0\n",
    "\n",
    "mps_out = []\n",
    "for N in range(4,18,2):\n",
    "    l = torch.load(f'MPO/seed{seed}/record/mpo_N={N}_pa.pt')\n",
    "    mps_out.append([N, torch.tensor(l['test Sqc']).view(-1,200).mean(-1)[-1].item(), torch.tensor(l['test Neg']).view(-1,200).mean(-1)[-1].item(), torch.tensor(l['test Sa']).view(-1,200).mean(-1)[-1].item()])\n",
    "mps_out"
   ]
  },
  {
   "cell_type": "code",
   "execution_count": null,
   "id": "7f91780f-6d85-4067-b7a9-a9a5292e3816",
   "metadata": {},
   "outputs": [],
   "source": [
    "torch.save(mps_out, 'mps_out_a.pt')"
   ]
  },
  {
   "cell_type": "code",
   "execution_count": 8,
   "id": "ac442dd6-81f9-4a2d-b63b-082e73cbed24",
   "metadata": {},
   "outputs": [
    {
     "data": {
      "text/plain": [
       "[[4, 0.36865946650505066, 0.4146355390548706, 0.6908187866210938],\n",
       " [6, 0.4026847779750824, 0.4054212272167206, 0.690269947052002],\n",
       " [8, 0.4854764938354492, 0.3825090825557709, 0.69195955991745],\n",
       " [10, 0.49391019344329834, 0.37696030735969543, 0.6919362545013428],\n",
       " [12, 0.5604791045188904, 0.3561559021472931, 0.6923449039459229],\n",
       " [14, 0.6588576436042786, 0.32264041900634766, 0.691292941570282],\n",
       " [16, 0.7095317840576172, 0.3043021857738495, 0.6920678615570068]]"
      ]
     },
     "execution_count": 8,
     "metadata": {},
     "output_type": "execute_result"
    }
   ],
   "source": [
    "# GPT ancilla\n",
    "\n",
    "seed = 0\n",
    "\n",
    "gpt_out = []\n",
    "for N in range(4,18,2):\n",
    "    l = torch.load(f'GPT_together/seed{seed}/record/gpt_N={N}_pa.pt')\n",
    "    gpt_out.append([N, torch.tensor(l['test Sqc']).view(-1,200).mean(-1)[-1].item(), torch.tensor(l['test Neg']).view(-1,200).mean(-1)[-1].item(), torch.tensor(l['test Sa']).view(-1,200).mean(-1)[-1].item()])\n",
    "gpt_out"
   ]
  },
  {
   "cell_type": "code",
   "execution_count": null,
   "id": "c17c8dee-31af-4ba7-b215-ffa2db4d130f",
   "metadata": {},
   "outputs": [],
   "source": [
    "torch.save(gpt_out, 'gpt_out_a.pt')"
   ]
  },
  {
   "cell_type": "code",
   "execution_count": 4,
   "id": "2f2b70a9-3457-4e79-a242-a41efec740b9",
   "metadata": {},
   "outputs": [
    {
     "data": {
      "text/plain": [
       "[[4.0, 0.3419240713119507, 0.41506320238113403, 0.6903237104415894],\n",
       " [6.0, 0.3942759037017822, 0.4043729603290558, 0.6904787421226501],\n",
       " [8.0, 0.4830217957496643, 0.382238507270813, 0.6929681301116943],\n",
       " [10.0, 0.4859117269515991, 0.3796651363372803, 0.6924377679824829],\n",
       " [12.0, 0.5496563911437988, 0.357470840215683, 0.6929038763046265],\n",
       " [14.0, 0.6560057997703552, 0.32149142026901245, 0.6927497386932373],\n",
       " [16.0, 0.6965165138244629, 0.3039205074310303, 0.6918038129806519]]"
      ]
     },
     "execution_count": 4,
     "metadata": {},
     "output_type": "execute_result"
    }
   ],
   "source": [
    "# post select\n",
    "\n",
    "seed = 0\n",
    "train_size = 500000\n",
    "\n",
    "post_out = []\n",
    "for N in range(4,18,2):\n",
    "    torch.manual_seed(seed)\n",
    "    prepseq, shadow_state, rhoS = torch_data(f'data/post_selected/data_{N}pa.pickle', shuffle=True)\n",
    "    prepseq, shadow_state, rhoS = prepseq[:600000], shadow_state[:600000], rhoS[:600000]\n",
    "    prepseq, shadow_state, rhoS = prepseq[train_size:], shadow_state[train_size:], rhoS[train_size:]\n",
    "    for i in range(2):\n",
    "        for j in range(2):\n",
    "            idx = (prepseq[:,::2].sum(-1)%2 == i)*(prepseq[:,1::2].sum(-1)%2 == j)\n",
    "            rhoC = rhoS[idx].mean(0, keepdim=True)\n",
    "            post_out.append([N, bSqc(rhoC,rhoC).item(), Neg(rhoC, rhoC).item(), Sa(rhoC, rhoC).item()])\n",
    "post_out = torch.tensor(post_out).view(-1, 4, 4).mean(1).tolist()\n",
    "post_out"
   ]
  },
  {
   "cell_type": "code",
   "execution_count": 5,
   "id": "fe272d28-5529-46a5-ab1d-1a10b084709c",
   "metadata": {},
   "outputs": [],
   "source": [
    "torch.save(post_out, 'post_out_a.pt')"
   ]
  },
  {
   "cell_type": "markdown",
   "id": "09980dae-4df0-43b7-944d-1eed12cd3ef9",
   "metadata": {
    "jp-MarkdownHeadingCollapsed": true,
    "tags": []
   },
   "source": [
    "## prepare N-mixed data"
   ]
  },
  {
   "cell_type": "code",
   "execution_count": 19,
   "id": "03d85277-949d-4374-a6a3-f7c785dc0f78",
   "metadata": {},
   "outputs": [],
   "source": [
    "seed = 0\n",
    "prepseq_all, shadow_state_all, rhoS_all = [], [], []\n",
    "for N in range(4,18,2):\n",
    "    torch.manual_seed(seed)\n",
    "    prepseq, shadow_state, rhoS = torch_data(f'data/post_selected/data_{N}pa.pickle', shuffle=True)\n",
    "    \n",
    "    prepseq, shadow_state, rhoS = prepseq[:600000], shadow_state[:600000], rhoS[:600000]\n",
    "    \n",
    "    prepseq = torch.cat([prepseq+2, torch.zeros(prepseq.shape[0], 14-prepseq.shape[1], dtype=prepseq.dtype), torch.ones(prepseq.shape[0], 1, dtype=prepseq.dtype)], 1)\n",
    "    prepseq_all.append(prepseq[None,...])\n",
    "    shadow_state_all.append(shadow_state[None,...])\n",
    "    rhoS_all.append(rhoS[None,...])\n",
    "prepseq_all = torch.cat(prepseq_all)\n",
    "shadow_state_all = torch.cat(shadow_state_all)\n",
    "rhoS_all = torch.cat(rhoS_all)"
   ]
  },
  {
   "cell_type": "code",
   "execution_count": 20,
   "id": "6c22e7cf-f9bc-48c3-a530-5a5e19666779",
   "metadata": {},
   "outputs": [
    {
     "data": {
      "text/plain": [
       "torch.Size([7, 600000, 15])"
      ]
     },
     "execution_count": 20,
     "metadata": {},
     "output_type": "execute_result"
    }
   ],
   "source": [
    "prepseq_all.shape"
   ]
  },
  {
   "cell_type": "code",
   "execution_count": 21,
   "id": "3ebd2acf-47e4-4f70-a663-379291a850f3",
   "metadata": {},
   "outputs": [],
   "source": [
    "torch.save(prepseq_all, f'data/post_selected/prepseq_all.pt')\n",
    "torch.save(shadow_state_all, f'data/post_selected/shadow_state_all.pt')\n",
    "torch.save(rhoS_all, f'data/post_selected/rhoS_all.pt')"
   ]
  },
  {
   "cell_type": "code",
   "execution_count": 22,
   "id": "ab1de2f6-a105-4b43-b8b8-d99037e2f8da",
   "metadata": {},
   "outputs": [],
   "source": [
    "prepseq_all = torch.load(f'data/post_selected/prepseq_all.pt')\n",
    "shadow_state_all = torch.load(f'data/post_selected/shadow_state_all.pt')\n",
    "rhoS_all = torch.load(f'data/post_selected/rhoS_all.pt')"
   ]
  },
  {
   "cell_type": "code",
   "execution_count": 23,
   "id": "7cd10b0d-2105-464e-9fb5-e2e8f07f8cd3",
   "metadata": {},
   "outputs": [],
   "source": [
    "train_ratio = 5/6\n",
    "\n",
    "train_size = int(prepseq_all.shape[1]*train_ratio)\n",
    "test_size = prepseq_all.shape[1]-train_size\n",
    "\n",
    "prepseq_train, prepseq_test = prepseq_all[:,:train_size], prepseq_all[:,train_size:]\n",
    "shadow_state_train, shadow_state_test = shadow_state_all[:,:train_size], shadow_state_all[:,train_size:]\n",
    "rhoS_train, rhoS_test = rhoS_all[:,:train_size], rhoS_all[:,train_size:]"
   ]
  },
  {
   "cell_type": "code",
   "execution_count": 24,
   "id": "a4108fe9-29a2-4b42-9f29-8b742ea22a1c",
   "metadata": {},
   "outputs": [],
   "source": [
    "seed = 0\n",
    "torch.manual_seed(seed)\n",
    "prepseq_train, shadow_state_train, rhoS_train = shuffle(prepseq_train.flatten(0,1), shadow_state_train.flatten(0,1), rhoS_train.flatten(0,1))"
   ]
  },
  {
   "cell_type": "code",
   "execution_count": 25,
   "id": "d512df0d-4028-45fb-af7a-6e24c9e85caa",
   "metadata": {},
   "outputs": [],
   "source": [
    "torch.save(prepseq_train, f'data/post_selected/prepseq_train.pt')\n",
    "torch.save(shadow_state_train, f'data/post_selected/shadow_state_train.pt')\n",
    "torch.save(rhoS_train, f'data/post_selected/rhoS_train.pt')"
   ]
  },
  {
   "cell_type": "code",
   "execution_count": 26,
   "id": "2d5f4bec-85f9-4dc9-97df-4bcdf6d48b92",
   "metadata": {},
   "outputs": [],
   "source": [
    "torch.save(prepseq_test, f'data/post_selected/prepseq_test.pt')\n",
    "torch.save(shadow_state_test, f'data/post_selected/shadow_state_test.pt')\n",
    "torch.save(rhoS_test, f'data/post_selected/rhoS_test.pt')"
   ]
  },
  {
   "cell_type": "code",
   "execution_count": null,
   "id": "f0d9972a-64f1-4c9e-8627-4d3a4ca1f77d",
   "metadata": {},
   "outputs": [],
   "source": []
  }
 ],
 "metadata": {
  "kernelspec": {
   "display_name": "Python 3 (ipykernel)",
   "language": "python",
   "name": "python3"
  },
  "language_info": {
   "codemirror_mode": {
    "name": "ipython",
    "version": 3
   },
   "file_extension": ".py",
   "mimetype": "text/x-python",
   "name": "python",
   "nbconvert_exporter": "python",
   "pygments_lexer": "ipython3",
   "version": "3.10.9"
  }
 },
 "nbformat": 4,
 "nbformat_minor": 5
}
