{
 "cells": [
  {
   "cell_type": "code",
   "execution_count": 2,
   "metadata": {},
   "outputs": [],
   "source": [
    "from simulator import blogm, bSqc, Neg, Sa\n",
    "from mpo import tel_mpo\n",
    "import torch\n",
    "from math import prod\n",
    "from functools import reduce\n",
    "import pandas\n",
    "from utils import dtype, device, pauli, basis, torch_data"
   ]
  },
  {
   "cell_type": "code",
   "execution_count": 3,
   "metadata": {},
   "outputs": [
    {
     "data": {
      "text/plain": [
       "6800"
      ]
     },
     "execution_count": 3,
     "metadata": {},
     "output_type": "execute_result"
    }
   ],
   "source": [
    "seed = 0\n",
    "train, test = False, True\n",
    "file = f'seed{seed}'\n",
    "train_ratio = 8/9\n",
    "batch = 500\n",
    "\n",
    "mdl = tel_mpo(34, bond=10)\n",
    "total=0 # find size of the model\n",
    "for p in mdl.parameters():\n",
    "    total+=prod(p.shape)\n",
    "total#, True_fid(mdl, psi)"
   ]
  },
  {
   "cell_type": "code",
   "execution_count": null,
   "metadata": {},
   "outputs": [
    {
     "name": "stdout",
     "output_type": "stream",
     "text": [
      "==================================================   Test   ==================================================\n",
      "N=4 done\n",
      "==================================================   Test   ==================================================\n",
      "N=6 done\n",
      "==================================================   Test   ==================================================\n",
      "N=8 done\n",
      "==================================================   Test   ==================================================\n",
      "N=10 done\n",
      "==================================================   Test   ==================================================\n",
      "N=12 done\n",
      "==================================================   Test   ==================================================\n",
      "N=14 done\n",
      "==================================================   Test   ==================================================\n",
      "N=16 done\n",
      "==================================================   Test   ==================================================\n",
      "N=18 done\n",
      "==================================================   Test   ==================================================\n",
      "N=20 done\n",
      "==================================================   Test   ==================================================\n",
      "N=22 done\n",
      "==================================================   Test   ==================================================\n",
      "N=24 done\n",
      "==================================================   Test   ==================================================\n",
      "N=26 done\n",
      "==================================================   Test   ==================================================\n",
      "N=28 done\n",
      "==================================================   Test   ==================================================\n",
      "N=30 done\n",
      "==================================================   Test   ==================================================\n",
      "N=32 done\n",
      "==================================================   Test   ==================================================\n",
      "N=34 done\n"
     ]
    }
   ],
   "source": [
    "all_N_values = []\n",
    "all_S_values = []\n",
    "all_I_values = []\n",
    "for N in range(4, 36, 2):\n",
    "    torch.manual_seed(seed)\n",
    "    prepseq, shadow_state, rhoS = torch_data(f'../data/data_{N}na.pickle', shuffle=True)\n",
    "    train_size = int(prepseq.shape[0]*train_ratio)\n",
    "    test_size = prepseq.shape[0]-train_size\n",
    "    \n",
    "    prepseq_train, prepseq_test = prepseq[:train_size], prepseq[train_size:]\n",
    "    shadow_state_train, shadow_state_test = shadow_state[:train_size], shadow_state[train_size:]\n",
    "    rhoS_train, rhoS_test = rhoS[:train_size], rhoS[train_size:]\n",
    "    \n",
    "    # split in batches\n",
    "    prepseq_train = prepseq_train.view(-1, batch, N-2)\n",
    "    shadow_state_train = shadow_state_train.view(-1, batch, 4)\n",
    "    rhoS_train = rhoS_train.view(-1, batch, 4, 4)\n",
    "\n",
    "    prepseq_test = prepseq_test.view(-1, batch, N-2)\n",
    "    shadow_state_test = shadow_state_test.view(-1, batch, 4)\n",
    "    rhoS_test = rhoS_test.view(-1, batch, 4, 4)\n",
    "    \n",
    "    # load new model\n",
    "    # if N == 4:\n",
    "    #     mdl = tel_mpo(34, bond=10)\n",
    "    # else:\n",
    "    #     mdl.load_state_dict(torch.load(f'{file}/models/mpo_N={N-2}_na.pt'))\n",
    "    \n",
    "    # load old model\n",
    "    mdl.load_state_dict(torch.load(f'{file}/models/mpo_N={N}_na.pt'))\n",
    "    \n",
    "    mps_N_values = []\n",
    "    mps_S_values = []\n",
    "    mps_I_values = []\n",
    "    with torch.no_grad():\n",
    "        print('='*50+'   Test   '+'='*50)\n",
    "        mdl.eval()\n",
    "        for i in range(prepseq_test.shape[0]):\n",
    "            rhoC = mdl(prepseq_test[i])\n",
    "            mps_N_values.append(Neg(rhoS_test[i], rhoC))\n",
    "            mps_S_values.append(bSqc(rhoS_test[i], rhoC))\n",
    "            mps_I_values.append(Sa(rhoS_test[i], rhoC)-bSqc(rhoS_test[i], rhoC))\n",
    "    all_N_values.append(torch.cat(mps_N_values))\n",
    "    all_S_values.append(torch.cat(mps_S_values))\n",
    "    all_I_values.append(torch.cat(mps_I_values))\n",
    "    print(f'N={N} done')\n",
    "torch.save(torch.cat(all_N_values).view(16,-1), f'../../1d-result-figure/mps_N_values.pt')\n",
    "torch.save(torch.cat(all_S_values).view(16,-1), f'../../1d-result-figure/mps_S_values.pt')\n",
    "torch.save(torch.cat(all_I_values).view(16,-1), f'../../1d-result-figure/mps_I_values.pt')\n",
    "    "
   ]
  },
  {
   "cell_type": "code",
   "execution_count": null,
   "metadata": {},
   "outputs": [],
   "source": []
  }
 ],
 "metadata": {
  "kernelspec": {
   "display_name": "base",
   "language": "python",
   "name": "python3"
  },
  "language_info": {
   "codemirror_mode": {
    "name": "ipython",
    "version": 3
   },
   "file_extension": ".py",
   "mimetype": "text/x-python",
   "name": "python",
   "nbconvert_exporter": "python",
   "pygments_lexer": "ipython3",
   "version": "3.11.11"
  }
 },
 "nbformat": 4,
 "nbformat_minor": 2
}
