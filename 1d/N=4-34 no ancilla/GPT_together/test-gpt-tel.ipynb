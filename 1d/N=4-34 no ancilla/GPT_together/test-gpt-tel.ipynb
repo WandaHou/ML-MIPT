{
 "cells": [
  {
   "cell_type": "code",
   "execution_count": 1,
   "metadata": {},
   "outputs": [
    {
     "name": "stderr",
     "output_type": "stream",
     "text": [
      "/Users/hwanda/anaconda3/lib/python3.11/site-packages/tqdm/auto.py:21: TqdmWarning: IProgress not found. Please update jupyter and ipywidgets. See https://ipywidgets.readthedocs.io/en/stable/user_install.html\n",
      "  from .autonotebook import tqdm as notebook_tqdm\n"
     ]
    }
   ],
   "source": [
    "from simulator import blogm, bSqc, Neg, Sa\n",
    "from Llama2 import LlamaPredictor\n",
    "import torch\n",
    "from math import prod\n",
    "from functools import reduce\n",
    "import pandas\n",
    "from utils import dtype, device, pauli, basis, torch_data"
   ]
  },
  {
   "cell_type": "code",
   "execution_count": 2,
   "metadata": {},
   "outputs": [
    {
     "name": "stderr",
     "output_type": "stream",
     "text": [
      "/Users/hwanda/anaconda3/lib/python3.11/site-packages/transformers/generation/configuration_utils.py:820: UserWarning: `return_dict_in_generate` is NOT set to `True`, but `output_hidden_states` is. When `return_dict_in_generate` is not `True`, `output_hidden_states` is ignored.\n",
      "  warnings.warn(\n"
     ]
    },
    {
     "data": {
      "text/plain": [
       "49976"
      ]
     },
     "execution_count": 2,
     "metadata": {},
     "output_type": "execute_result"
    }
   ],
   "source": [
    "seed = 1\n",
    "train, test = False, True\n",
    "file = f'seed{seed}'\n",
    "train_ratio = 8/9\n",
    "batch = 500\n",
    "\n",
    "# mdl = LlamaPredictor(L_max=35,\n",
    "#                      n_embd=12, \n",
    "#                      n_layer=6, \n",
    "#                      n_head=6, \n",
    "#                      vocab_size=4, \n",
    "#                      dropout_prob=0.0).to(device)\n",
    "mdl = LlamaPredictor(L_max=35,\n",
    "                     n_embd=24, \n",
    "                     n_layer=12, \n",
    "                     n_head=6, \n",
    "                     vocab_size=4, \n",
    "                     dropout_prob=0.0).to(device)\n",
    "#mdl.load_state_dict(torch.load(f'{file}/models/gpt_na.pt'))\n",
    "    \n",
    "total=0 # find size of the model\n",
    "for p in mdl.parameters():\n",
    "    total+=prod(p.shape)\n",
    "total#, True_fid(mdl, psi)"
   ]
  },
  {
   "cell_type": "code",
   "execution_count": 3,
   "metadata": {},
   "outputs": [
    {
     "name": "stdout",
     "output_type": "stream",
     "text": [
      "==================================================   Test   ==================================================\n",
      "N=4 done\n",
      "==================================================   Test   ==================================================\n",
      "N=6 done\n",
      "==================================================   Test   ==================================================\n",
      "N=8 done\n",
      "==================================================   Test   ==================================================\n",
      "N=10 done\n",
      "==================================================   Test   ==================================================\n",
      "N=12 done\n",
      "==================================================   Test   ==================================================\n",
      "N=14 done\n",
      "==================================================   Test   ==================================================\n",
      "N=16 done\n",
      "==================================================   Test   ==================================================\n",
      "N=18 done\n",
      "==================================================   Test   ==================================================\n",
      "N=20 done\n",
      "==================================================   Test   ==================================================\n",
      "N=22 done\n",
      "==================================================   Test   ==================================================\n",
      "N=24 done\n",
      "==================================================   Test   ==================================================\n",
      "N=26 done\n",
      "==================================================   Test   ==================================================\n",
      "N=28 done\n",
      "==================================================   Test   ==================================================\n",
      "N=30 done\n",
      "==================================================   Test   ==================================================\n",
      "N=32 done\n",
      "==================================================   Test   ==================================================\n",
      "N=34 done\n"
     ]
    }
   ],
   "source": [
    "all_N_values = []\n",
    "all_S_values = []\n",
    "all_I_values = []\n",
    "for N in range(4,36,2):\n",
    "    torch.manual_seed(seed)\n",
    "    prepseq, shadow_state, rhoS = torch_data(f'../data/data_{N}na.pickle', shuffle=True)\n",
    "    prepseq = torch.cat([prepseq+2, torch.zeros(prepseq.shape[0], 32-prepseq.shape[1], dtype=prepseq.dtype), torch.ones(prepseq.shape[0], 1, dtype=prepseq.dtype)], 1)\n",
    "    train_size = int(prepseq.shape[0]*train_ratio)\n",
    "    test_size = prepseq.shape[0]-train_size\n",
    "    \n",
    "    prepseq_train, prepseq_test = prepseq[:train_size], prepseq[train_size:]\n",
    "    shadow_state_train, shadow_state_test = shadow_state[:train_size], shadow_state[train_size:]\n",
    "    rhoS_train, rhoS_test = rhoS[:train_size], rhoS[train_size:]\n",
    "    \n",
    "    # split in batches\n",
    "    prepseq_train = prepseq_train.view(-1, batch, 33)\n",
    "    shadow_state_train = shadow_state_train.view(-1, batch, 4)\n",
    "    rhoS_train = rhoS_train.view(-1, batch, 4, 4)\n",
    "\n",
    "    prepseq_test = prepseq_test.view(-1, batch, 33)\n",
    "    shadow_state_test = shadow_state_test.view(-1, batch, 4)\n",
    "    rhoS_test = rhoS_test.view(-1, batch, 4, 4)\n",
    "\n",
    "    mdl.load_state_dict(torch.load(f'{file}/models/gpt_N={N}_na.pt'))\n",
    "\n",
    "\n",
    "    gpt_N_values = []\n",
    "    gpt_S_values = []\n",
    "    gpt_I_values = []\n",
    "    with torch.no_grad():\n",
    "        print('='*50+'   Test   '+'='*50)\n",
    "        mdl.eval()\n",
    "        for i in range(prepseq_test.shape[0]):\n",
    "            rhoC = mdl(prepseq_test[i])\n",
    "            gpt_N_values.append(Neg(rhoS_test[i], rhoC))\n",
    "            gpt_S_values.append(bSqc(rhoS_test[i], rhoC))\n",
    "            gpt_I_values.append(Sa(rhoS_test[i], rhoC)-bSqc(rhoS_test[i], rhoC))\n",
    "    all_N_values.append(torch.cat(gpt_N_values))\n",
    "    all_S_values.append(torch.cat(gpt_S_values))\n",
    "    all_I_values.append(torch.cat(gpt_I_values))\n",
    "    print(f'N={N} done')\n",
    "torch.save(torch.cat(all_N_values).view(16,-1), f'../../1d-result-figure/gpt_N_values.pt')\n",
    "torch.save(torch.cat(all_S_values).view(16,-1), f'../../1d-result-figure/gpt_S_values.pt')\n",
    "torch.save(torch.cat(all_I_values).view(16,-1), f'../../1d-result-figure/gpt_I_values.pt')\n",
    "    "
   ]
  },
  {
   "cell_type": "code",
   "execution_count": 6,
   "metadata": {},
   "outputs": [
    {
     "data": {
      "text/plain": [
       "tensor([ 0.3180,  0.2819,  0.1876,  0.0584, -0.0262, -0.0534, -0.1264, -0.1568,\n",
       "        -0.2330, -0.2726, -0.3345, -0.3682, -0.3997, -0.4179, -0.4615, -0.4725],\n",
       "       dtype=torch.float64)"
      ]
     },
     "execution_count": 6,
     "metadata": {},
     "output_type": "execute_result"
    }
   ],
   "source": [
    "torch.cat(all_I_values).view(16,-1).mean(-1)"
   ]
  },
  {
   "cell_type": "code",
   "execution_count": null,
   "metadata": {},
   "outputs": [],
   "source": []
  }
 ],
 "metadata": {
  "kernelspec": {
   "display_name": "base",
   "language": "python",
   "name": "python3"
  },
  "language_info": {
   "codemirror_mode": {
    "name": "ipython",
    "version": 3
   },
   "file_extension": ".py",
   "mimetype": "text/x-python",
   "name": "python",
   "nbconvert_exporter": "python",
   "pygments_lexer": "ipython3",
   "version": "3.11.11"
  }
 },
 "nbformat": 4,
 "nbformat_minor": 2
}
