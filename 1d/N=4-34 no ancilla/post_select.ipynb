{
 "cells": [
  {
   "cell_type": "code",
   "execution_count": 1,
   "id": "6bf45916-546f-4c69-8459-9c8ae836f414",
   "metadata": {
    "tags": []
   },
   "outputs": [],
   "source": [
    "from simulator import blogm, bSqc, Neg, Sa\n",
    "import torch\n",
    "from math import prod\n",
    "from functools import reduce\n",
    "import pandas\n",
    "from utils import dtype, device, pauli, basis, torch_data"
   ]
  },
  {
   "cell_type": "code",
   "execution_count": 2,
   "id": "96f11ab3-8f5a-4025-a32c-4776639832eb",
   "metadata": {},
   "outputs": [
    {
     "name": "stdout",
     "output_type": "stream",
     "text": [
      "N=4 done\n",
      "N=6 done\n",
      "N=8 done\n",
      "N=10 done\n",
      "N=12 done\n",
      "N=14 done\n",
      "N=16 done\n",
      "N=18 done\n",
      "N=20 done\n",
      "N=22 done\n",
      "N=24 done\n",
      "N=26 done\n",
      "N=28 done\n",
      "N=30 done\n",
      "N=32 done\n",
      "N=34 done\n"
     ]
    }
   ],
   "source": [
    "seed = 1\n",
    "train_ratio = 8/9\n",
    "all_N = []\n",
    "all_I = []\n",
    "all_S = []\n",
    "for N in range(4,36,2):\n",
    "    torch.manual_seed(seed)\n",
    "    prepseq, shadow_state, rhoS = torch_data(f'data/data_{N}na.pickle', shuffle=True)\n",
    "    train_size = int(prepseq.shape[0]*train_ratio)\n",
    "    test_size = prepseq.shape[0]-train_size\n",
    "    \n",
    "    prepseq_train, prepseq_test = prepseq[:train_size], prepseq[train_size:]\n",
    "    shadow_state_train, shadow_state_test = shadow_state[:train_size], shadow_state[train_size:]\n",
    "    rhoS_train, rhoS_test = rhoS[:train_size], rhoS[train_size:]\n",
    "    N_value = []\n",
    "    I_value = []\n",
    "    S_value = []\n",
    "    for i in range(2):\n",
    "        for j in range(2):\n",
    "            train_idx = (prepseq_train[:,::2].sum(-1)%2 == i)*(prepseq_train[:,1::2].sum(-1)%2 == j)\n",
    "            test_idx = (prepseq_test[:,::2].sum(-1)%2 == i)*(prepseq_test[:,1::2].sum(-1)%2 == j)\n",
    "            rS = rhoS_test[test_idx]\n",
    "            rC = rhoS_train[train_idx].mean(0)\n",
    "            # e = torch.linalg.eigh(rC)[0].min()\n",
    "            # rC = rC + torch.eye(4,4)*(e.abs()-e)/2\n",
    "            # rC = rC/torch.trace(rC)\n",
    "            rC = rC.unsqueeze(0).expand(rS.shape[0],-1,-1)\n",
    "            N_value.append(Neg(rS, rC))\n",
    "            S_value.append(bSqc(rS, rC))\n",
    "            I_value.append(Sa(rS, rC)-bSqc(rS, rC))\n",
    "    all_N.append(torch.cat(N_value))\n",
    "    all_I.append(torch.cat(I_value))\n",
    "    all_S.append(torch.cat(S_value))\n",
    "    print(f'N={N} done')\n",
    "torch.save(torch.cat(all_N).view(16,-1), f'../1d-result-figure/ps_N_values.pt')\n",
    "torch.save(torch.cat(all_S).view(16,-1), f'../1d-result-figure/ps_S_values.pt')\n",
    "torch.save(torch.cat(all_I).view(16,-1), f'../1d-result-figure/ps_I_values.pt')\n"
   ]
  },
  {
   "cell_type": "code",
   "execution_count": 5,
   "id": "4688884f",
   "metadata": {},
   "outputs": [
    {
     "data": {
      "text/plain": [
       "tensor([ 0.3288,  0.2772,  0.1728,  0.0468, -0.0443, -0.0638, -0.1326, -0.1644,\n",
       "        -0.2326, -0.2727, -0.3386, -0.3676, -0.4057, -0.4158, -0.4548, -0.4669],\n",
       "       dtype=torch.float64)"
      ]
     },
     "execution_count": 5,
     "metadata": {},
     "output_type": "execute_result"
    }
   ],
   "source": [
    "torch.cat(all_I).view(16,-1).mean(-1)"
   ]
  },
  {
   "cell_type": "code",
   "execution_count": null,
   "id": "328428c6",
   "metadata": {},
   "outputs": [],
   "source": []
  }
 ],
 "metadata": {
  "kernelspec": {
   "display_name": "base",
   "language": "python",
   "name": "python3"
  },
  "language_info": {
   "codemirror_mode": {
    "name": "ipython",
    "version": 3
   },
   "file_extension": ".py",
   "mimetype": "text/x-python",
   "name": "python",
   "nbconvert_exporter": "python",
   "pygments_lexer": "ipython3",
   "version": "3.11.11"
  }
 },
 "nbformat": 4,
 "nbformat_minor": 5
}
