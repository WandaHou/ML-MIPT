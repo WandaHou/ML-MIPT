{
 "cells": [
  {
   "cell_type": "code",
   "execution_count": 1,
   "id": "bf1e009b-bb23-4d8b-a09e-e5e3bf92e14f",
   "metadata": {},
   "outputs": [],
   "source": [
    "import torch\n",
    "from simulator import blogm, bSqc, Neg, Sa\n",
    "%run 'utils.py'"
   ]
  },
  {
   "cell_type": "markdown",
   "id": "46fec8b8-e54a-4e51-bee7-53c2546a4e2b",
   "metadata": {},
   "source": [
    "## load test result"
   ]
  },
  {
   "cell_type": "code",
   "execution_count": 15,
   "id": "6c317938-40ff-4fed-bec9-fb417a3a9680",
   "metadata": {},
   "outputs": [
    {
     "data": {
      "text/plain": [
       "[[4, 0.364736407995224, 0.4148503541946411, 0.6909874081611633],\n",
       " [6, 0.40908727049827576, 0.4030132293701172, 0.6922643184661865],\n",
       " [8, 0.5202898979187012, 0.3697245419025421, 0.6928110718727112],\n",
       " [10, 0.6350785493850708, 0.32931357622146606, 0.6939518451690674],\n",
       " [12, 0.7240471839904785, 0.2949746251106262, 0.6931992173194885],\n",
       " [14, 0.7473224401473999, 0.28529077768325806, 0.6953920125961304],\n",
       " [16, 0.8022655248641968, 0.262577623128891, 0.6955318450927734],\n",
       " [18, 0.8470113277435303, 0.24008946120738983, 0.6964192390441895],\n",
       " [20, 0.9177682995796204, 0.20551328361034393, 0.695112943649292],\n",
       " [22, 0.9770315289497375, 0.1711874008178711, 0.6958082318305969],\n",
       " [24, 1.0242738723754883, 0.14908725023269653, 0.6973040103912354],\n",
       " [26, 1.053487777709961, 0.13219453394412994, 0.6959724426269531],\n",
       " [28, 1.0787769556045532, 0.11860309541225433, 0.6969874501228333],\n",
       " [30, 1.09284245967865, 0.106590636074543, 0.6972158551216125],\n",
       " [32, 1.1137124300003052, 0.0917612835764885, 0.6957629919052124],\n",
       " [34, 1.1425203084945679, 0.06791458278894424, 0.6959096789360046]]"
      ]
     },
     "execution_count": 15,
     "metadata": {},
     "output_type": "execute_result"
    }
   ],
   "source": [
    "# MPO no ancilla\n",
    "\n",
    "seed = 0\n",
    "\n",
    "mps_out = []\n",
    "for N in range(4,36,2):\n",
    "    l = torch.load(f'MPO/seed{seed}/record/mpo_N={N}_na.pt')\n",
    "    mps_out.append([N, torch.tensor(l['test Sqc']).view(-1,200).mean(-1)[-1].item(), torch.tensor(l['test Neg']).view(-1,200).mean(-1)[-1].item(), torch.tensor(l['test Sa']).view(-1,200).mean(-1)[-1].item()])\n",
    "mps_out"
   ]
  },
  {
   "cell_type": "code",
   "execution_count": 16,
   "id": "3ca06ee2-07d4-4c98-a6c9-330214f46362",
   "metadata": {},
   "outputs": [],
   "source": [
    "torch.save(mps_out, 'mps_out.pt')"
   ]
  },
  {
   "cell_type": "code",
   "execution_count": 17,
   "id": "ac442dd6-81f9-4a2d-b63b-082e73cbed24",
   "metadata": {},
   "outputs": [
    {
     "data": {
      "text/plain": [
       "[[4, 0.37280037999153137, 0.4131636321544647, 0.6908037066459656],\n",
       " [6, 0.4102906882762909, 0.4040994644165039, 0.6921830773353577],\n",
       " [8, 0.5034903883934021, 0.37162959575653076, 0.6910855770111084],\n",
       " [10, 0.6337853670120239, 0.3275477886199951, 0.6922305822372437],\n",
       " [12, 0.7163309454917908, 0.29513853788375854, 0.6901062726974487],\n",
       " [14, 0.7441816926002502, 0.28241536021232605, 0.6907975077629089],\n",
       " [16, 0.8188619017601013, 0.25158053636550903, 0.6924182772636414],\n",
       " [18, 0.8491512537002563, 0.2365495264530182, 0.6923715472221375],\n",
       " [20, 0.9247498512268066, 0.19789540767669678, 0.6917109489440918],\n",
       " [22, 0.9647826552391052, 0.17572282254695892, 0.6921895742416382],\n",
       " [24, 1.0269538164138794, 0.14290118217468262, 0.6924147009849548],\n",
       " [26, 1.0608333349227905, 0.12394537031650543, 0.69263756275177],\n",
       " [28, 1.0915954113006592, 0.10315950214862823, 0.6919042468070984],\n",
       " [30, 1.110666275024414, 0.08745766431093216, 0.6927810907363892],\n",
       " [32, 1.1533000469207764, 0.06018567085266113, 0.6918057203292847],\n",
       " [34, 1.1651283502578735, 0.043738022446632385, 0.6926090121269226]]"
      ]
     },
     "execution_count": 17,
     "metadata": {},
     "output_type": "execute_result"
    }
   ],
   "source": [
    "# GPT no ancilla\n",
    "\n",
    "seed = 1\n",
    "\n",
    "gpt_out = []\n",
    "for N in range(4,36,2):\n",
    "    l = torch.load(f'GPT_together/seed{seed}/record/gpt_N={N}_na.pt')\n",
    "    gpt_out.append([N, torch.tensor(l['test Sqc']).view(-1,200).mean(-1)[-1].item(), torch.tensor(l['test Neg']).view(-1,200).mean(-1)[-1].item(), torch.tensor(l['test Sa']).view(-1,200).mean(-1)[-1].item()])\n",
    "gpt_out"
   ]
  },
  {
   "cell_type": "code",
   "execution_count": 18,
   "id": "04e1e179-c4fc-4a98-abde-62a52212a4cd",
   "metadata": {},
   "outputs": [],
   "source": [
    "torch.save(gpt_out, 'gpt_out.pt')"
   ]
  },
  {
   "cell_type": "code",
   "execution_count": 19,
   "id": "f6e9d11f-c35e-4b80-8c80-0dd83720f4a4",
   "metadata": {},
   "outputs": [
    {
     "ename": "NameError",
     "evalue": "name 'torch_data' is not defined",
     "output_type": "error",
     "traceback": [
      "\u001b[31m---------------------------------------------------------------------------\u001b[39m",
      "\u001b[31mNameError\u001b[39m                                 Traceback (most recent call last)",
      "\u001b[36mCell\u001b[39m\u001b[36m \u001b[39m\u001b[32mIn[19]\u001b[39m\u001b[32m, line 9\u001b[39m\n\u001b[32m      7\u001b[39m \u001b[38;5;28;01mfor\u001b[39;00m N \u001b[38;5;129;01min\u001b[39;00m \u001b[38;5;28mrange\u001b[39m(\u001b[32m4\u001b[39m,\u001b[32m36\u001b[39m,\u001b[32m2\u001b[39m):\n\u001b[32m      8\u001b[39m     torch.manual_seed(seed)\n\u001b[32m----> \u001b[39m\u001b[32m9\u001b[39m     prepseq, shadow_state, rhoS = \u001b[43mtorch_data\u001b[49m(\u001b[33mf\u001b[39m\u001b[33m'\u001b[39m\u001b[33mdata/data_\u001b[39m\u001b[38;5;132;01m{\u001b[39;00mN\u001b[38;5;132;01m}\u001b[39;00m\u001b[33mna.pickle\u001b[39m\u001b[33m'\u001b[39m, shuffle=\u001b[38;5;28;01mTrue\u001b[39;00m)\n\u001b[32m     10\u001b[39m     prepseq, shadow_state, rhoS = prepseq[train_size:], shadow_state[train_size:], rhoS[train_size:]\n\u001b[32m     11\u001b[39m     \u001b[38;5;28;01mfor\u001b[39;00m i \u001b[38;5;129;01min\u001b[39;00m \u001b[38;5;28mrange\u001b[39m(\u001b[32m2\u001b[39m):\n",
      "\u001b[31mNameError\u001b[39m: name 'torch_data' is not defined"
     ]
    }
   ],
   "source": [
    "# post select\n",
    "\n",
    "seed = 0\n",
    "train_size = 800000\n",
    "\n",
    "post_out = []\n",
    "for N in range(4,36,2):\n",
    "    torch.manual_seed(seed)\n",
    "    prepseq, shadow_state, rhoS = torch_data(f'data/data_{N}na.pickle', shuffle=True)\n",
    "    prepseq, shadow_state, rhoS = prepseq[train_size:], shadow_state[train_size:], rhoS[train_size:]\n",
    "    for i in range(2):\n",
    "        for j in range(2):\n",
    "            idx = (prepseq[:,::2].sum(-1)%2 == i)*(prepseq[:,1::2].sum(-1)%2 == j)\n",
    "            rhoC = rhoS[idx].mean(0, keepdim=True)\n",
    "            post_out.append([N, bSqc(rhoC,rhoC).item(), Neg(rhoC, rhoC).item(), Sa(rhoC, rhoC).item()])\n",
    "post_out = torch.tensor(post_out).view(-1, 4, 4).mean(1).tolist()\n",
    "post_out"
   ]
  },
  {
   "cell_type": "code",
   "execution_count": 17,
   "id": "0654c425-ba2f-4085-946b-28c1c5205ce4",
   "metadata": {},
   "outputs": [],
   "source": [
    "torch.save(post_out, 'post_out.pt')"
   ]
  },
  {
   "cell_type": "markdown",
   "id": "09980dae-4df0-43b7-944d-1eed12cd3ef9",
   "metadata": {
    "jp-MarkdownHeadingCollapsed": true,
    "tags": []
   },
   "source": [
    "## prepare N-mixed data"
   ]
  },
  {
   "cell_type": "code",
   "execution_count": 3,
   "id": "03d85277-949d-4374-a6a3-f7c785dc0f78",
   "metadata": {},
   "outputs": [],
   "source": [
    "seed = 0\n",
    "prepseq_all, shadow_state_all, rhoS_all = [], [], []\n",
    "for N in range(4,36,2):\n",
    "    torch.manual_seed(seed)\n",
    "    prepseq, shadow_state, rhoS = torch_data(f'data/data_{N}na.pickle', shuffle=True)\n",
    "    prepseq = torch.cat([prepseq+2, torch.zeros(prepseq.shape[0], 32-prepseq.shape[1], dtype=prepseq.dtype), torch.ones(prepseq.shape[0], 1, dtype=prepseq.dtype)], 1)\n",
    "    prepseq_all.append(prepseq[None,...])\n",
    "    shadow_state_all.append(shadow_state[None,...])\n",
    "    rhoS_all.append(rhoS[None,...])\n",
    "prepseq_all = torch.cat(prepseq_all)\n",
    "shadow_state_all = torch.cat(shadow_state_all)\n",
    "rhoS_all = torch.cat(rhoS_all)"
   ]
  },
  {
   "cell_type": "code",
   "execution_count": 4,
   "id": "6c22e7cf-f9bc-48c3-a530-5a5e19666779",
   "metadata": {},
   "outputs": [
    {
     "data": {
      "text/plain": [
       "torch.Size([16, 900000, 33])"
      ]
     },
     "execution_count": 4,
     "metadata": {},
     "output_type": "execute_result"
    }
   ],
   "source": [
    "prepseq_all.shape"
   ]
  },
  {
   "cell_type": "code",
   "execution_count": 5,
   "id": "3ebd2acf-47e4-4f70-a663-379291a850f3",
   "metadata": {},
   "outputs": [],
   "source": [
    "torch.save(prepseq_all, f'data/prepseq_all.pt')\n",
    "torch.save(shadow_state_all, f'data/shadow_state_all.pt')\n",
    "torch.save(rhoS_all, f'data/rhoS_all.pt')"
   ]
  },
  {
   "cell_type": "code",
   "execution_count": 2,
   "id": "ab1de2f6-a105-4b43-b8b8-d99037e2f8da",
   "metadata": {},
   "outputs": [],
   "source": [
    "prepseq_all = torch.load(f'data/prepseq_all.pt')\n",
    "shadow_state_all = torch.load(f'data/shadow_state_all.pt')\n",
    "rhoS_all = torch.load(f'data/rhoS_all.pt')"
   ]
  },
  {
   "cell_type": "code",
   "execution_count": 3,
   "id": "7cd10b0d-2105-464e-9fb5-e2e8f07f8cd3",
   "metadata": {},
   "outputs": [],
   "source": [
    "train_ratio = 8/9\n",
    "\n",
    "train_size = int(prepseq_all.shape[1]*train_ratio)\n",
    "test_size = prepseq_all.shape[1]-train_size\n",
    "\n",
    "prepseq_train, prepseq_test = prepseq_all[:,:train_size], prepseq_all[:,train_size:]\n",
    "shadow_state_train, shadow_state_test = shadow_state_all[:,:train_size], shadow_state_all[:,train_size:]\n",
    "rhoS_train, rhoS_test = rhoS_all[:,:train_size], rhoS_all[:,train_size:]"
   ]
  },
  {
   "cell_type": "code",
   "execution_count": 5,
   "id": "a4108fe9-29a2-4b42-9f29-8b742ea22a1c",
   "metadata": {},
   "outputs": [],
   "source": [
    "seed = 0\n",
    "torch.manual_seed(seed)\n",
    "prepseq_train, shadow_state_train, rhoS_train = shuffle(prepseq_train.flatten(0,1), shadow_state_train.flatten(0,1), rhoS_train.flatten(0,1))"
   ]
  },
  {
   "cell_type": "code",
   "execution_count": 6,
   "id": "d512df0d-4028-45fb-af7a-6e24c9e85caa",
   "metadata": {},
   "outputs": [],
   "source": [
    "torch.save(prepseq_train, f'data/prepseq_train.pt')\n",
    "torch.save(shadow_state_train, f'data/shadow_state_train.pt')\n",
    "torch.save(rhoS_train, f'data/rhoS_train.pt')"
   ]
  },
  {
   "cell_type": "code",
   "execution_count": 7,
   "id": "2d5f4bec-85f9-4dc9-97df-4bcdf6d48b92",
   "metadata": {},
   "outputs": [],
   "source": [
    "torch.save(prepseq_test, f'data/prepseq_test.pt')\n",
    "torch.save(shadow_state_test, f'data/shadow_state_test.pt')\n",
    "torch.save(rhoS_test, f'data/rhoS_test.pt')"
   ]
  },
  {
   "cell_type": "code",
   "execution_count": null,
   "id": "f0d9972a-64f1-4c9e-8627-4d3a4ca1f77d",
   "metadata": {},
   "outputs": [],
   "source": []
  },
  {
   "cell_type": "markdown",
   "id": "aed0ea9b",
   "metadata": {},
   "source": [
    "## mean and std"
   ]
  },
  {
   "cell_type": "code",
   "execution_count": null,
   "id": "07b154e2",
   "metadata": {},
   "outputs": [],
   "source": [
    "# MPO no ancilla\n",
    "\n",
    "seed = 0\n",
    "\n",
    "mps_out = []\n",
    "for N in range(4,36,2):\n",
    "    l = torch.load(f'MPO/seed{seed}/record/mpo_N={N}_na.pt')\n",
    "    mps_out.append([N, torch.tensor(l['test Sqc']).view(-1,200).mean(-1)[-1].item(), torch.tensor(l['test Neg']).view(-1,200).mean(-1)[-1].item(), torch.tensor(l['test Sa']).view(-1,200).mean(-1)[-1].item()])\n",
    "mps_out"
   ]
  },
  {
   "cell_type": "code",
   "execution_count": 1,
   "id": "0be93e3c",
   "metadata": {},
   "outputs": [
    {
     "name": "stdout",
     "output_type": "stream",
     "text": [
      "Means:\n",
      "N (Neg) mean: [0.4148503541946411, 0.4030132293701172, 0.3697245419025421, 0.32931357622146606, 0.2949746251106262, 0.28529077768325806, 0.262577623128891, 0.24008946120738983, 0.20551328361034393, 0.1711874008178711, 0.14908725023269653, 0.13219453394412994, 0.11860309541225433, 0.106590636074543, 0.0917612835764885, 0.06791458278894424]\n",
      "S (Sqc) mean: [0.364736407995224, 0.40908727049827576, 0.5202898979187012, 0.6350785493850708, 0.7240471839904785, 0.7473224401473999, 0.8022655248641968, 0.8470113277435303, 0.9177682995796204, 0.9770315289497375, 1.0242738723754883, 1.053487777709961, 1.0787769556045532, 1.09284245967865, 1.1137124300003052, 1.1425203084945679]\n",
      "I (Sa) mean: [0.6909874081611633, 0.6922643184661865, 0.6928110718727112, 0.6939518451690674, 0.6931992173194885, 0.6953920125961304, 0.6955318450927734, 0.6964192390441895, 0.695112943649292, 0.6958082318305969, 0.6973040103912354, 0.6959724426269531, 0.6969874501228333, 0.6972158551216125, 0.6957629919052124, 0.6959096789360046]\n",
      "\n",
      "Standard Deviations:\n",
      "N (Neg) std: [0.04918226972222328, 0.045566946268081665, 0.04739902913570404, 0.04889850690960884, 0.04900358244776726, 0.049833379685878754, 0.05119141563773155, 0.053870104253292084, 0.056743040680885315, 0.05165626108646393, 0.05372628942131996, 0.050112076103687286, 0.055349066853523254, 0.0555659644305706, 0.05326090380549431, 0.053063083440065384]\n",
      "S (Sqc) std: [0.18547768890857697, 0.16791117191314697, 0.15628387033939362, 0.1410897970199585, 0.1361408829689026, 0.13469134271144867, 0.12300122529268265, 0.1310678869485855, 0.12439455837011337, 0.1089082881808281, 0.10725895315408707, 0.09252378344535828, 0.10314861685037613, 0.09352830797433853, 0.08870983123779297, 0.0843501091003418]\n",
      "I (Sa) std: [0.004988350439816713, 0.0045181033201515675, 0.005661755334585905, 0.004065133631229401, 0.006127304397523403, 0.007182893343269825, 0.006412488874047995, 0.006732583977282047, 0.00676408875733614, 0.006732264533638954, 0.006782212294638157, 0.007167775183916092, 0.00812449585646391, 0.007148433942347765, 0.00780560402199626, 0.006308804731816053]\n"
     ]
    }
   ],
   "source": [
    "import torch\n",
    "\n",
    "# Initialize lists to store all values for each N\n",
    "mps_N_values = []  # For Neg values\n",
    "mps_S_values = []  # For Sqc values\n",
    "mps_I_values = []  # For Sa values\n",
    "\n",
    "# Collect all values for each N\n",
    "for N in range(4,36,2):\n",
    "    l = torch.load(f'MPO/seed0/record/mpo_N={N}_na.pt')\n",
    "    # Get the last 200 values for each metric\n",
    "    neg_values = torch.tensor(l['test Neg']).view(-1,200)[-1]\n",
    "    sqc_values = torch.tensor(l['test Sqc']).view(-1,200)[-1]\n",
    "    sa_values = torch.tensor(l['test Sa']).view(-1,200)[-1]\n",
    "    \n",
    "    mps_N_values.append(neg_values)\n",
    "    mps_S_values.append(sqc_values)\n",
    "    mps_I_values.append(sa_values)\n",
    "\n",
    "# Convert to tensors\n",
    "mps_N_values = torch.stack(mps_N_values)\n",
    "mps_S_values = torch.stack(mps_S_values)\n",
    "mps_I_values = torch.stack(mps_I_values)\n",
    "\n",
    "# Calculate means\n",
    "mps_N_mean = mps_N_values.mean(dim=1)\n",
    "mps_S_mean = mps_S_values.mean(dim=1)\n",
    "mps_I_mean = mps_I_values.mean(dim=1)\n",
    "\n",
    "# Calculate standard deviations\n",
    "# mps_N_std = torch.sqrt(mps_N_values.var(dim=1))\n",
    "# mps_S_std = torch.sqrt(mps_S_values.var(dim=1))\n",
    "# mps_I_std = torch.sqrt(mps_I_values.var(dim=1))\n",
    "\n",
    "# Save the results\n",
    "# torch.save(mps_N_mean, 'mps_N_mean.pt')\n",
    "# torch.save(mps_N_std, 'mps_N_std.pt')\n",
    "# torch.save(mps_S_mean, 'mps_S_mean.pt')\n",
    "# torch.save(mps_S_std, 'mps_S_std.pt')\n",
    "# torch.save(mps_I_mean, 'mps_I_mean.pt')\n",
    "# torch.save(mps_I_std, 'mps_I_std.pt')\n",
    "\n",
    "# Print the results\n",
    "print('Means:')\n",
    "print('N (Neg) mean:', mps_N_mean.tolist())\n",
    "print('S (Sqc) mean:', mps_S_mean.tolist())\n",
    "print('I (Sa) mean:', mps_I_mean.tolist())\n",
    "print('\\nStandard Deviations:')\n",
    "print('N (Neg) std:', mps_N_std.tolist())\n",
    "print('S (Sqc) std:', mps_S_std.tolist())\n",
    "print('I (Sa) std:', mps_I_std.tolist())"
   ]
  },
  {
   "cell_type": "code",
   "execution_count": 4,
   "id": "0572915e",
   "metadata": {},
   "outputs": [
    {
     "data": {
      "text/plain": [
       "torch.Size([16, 200])"
      ]
     },
     "execution_count": 4,
     "metadata": {},
     "output_type": "execute_result"
    }
   ],
   "source": [
    "mps_N_values.shape"
   ]
  },
  {
   "cell_type": "code",
   "execution_count": 23,
   "id": "df961bb8",
   "metadata": {},
   "outputs": [
    {
     "data": {
      "text/plain": [
       "600"
      ]
     },
     "execution_count": 23,
     "metadata": {},
     "output_type": "execute_result"
    }
   ],
   "source": [
    "len(torch.load(f'GPT_together/seed{0}/record/gpt_N={34}_na.pt')['test Neg'])"
   ]
  }
 ],
 "metadata": {
  "kernelspec": {
   "display_name": "Python 3 (ipykernel)",
   "language": "python",
   "name": "python3"
  },
  "language_info": {
   "codemirror_mode": {
    "name": "ipython",
    "version": 3
   },
   "file_extension": ".py",
   "mimetype": "text/x-python",
   "name": "python",
   "nbconvert_exporter": "python",
   "pygments_lexer": "ipython3",
   "version": "3.11.11"
  }
 },
 "nbformat": 4,
 "nbformat_minor": 5
}
