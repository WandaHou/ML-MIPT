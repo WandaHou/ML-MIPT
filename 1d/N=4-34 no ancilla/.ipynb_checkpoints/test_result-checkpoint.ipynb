{
 "cells": [
  {
   "cell_type": "code",
   "execution_count": 7,
   "id": "bf1e009b-bb23-4d8b-a09e-e5e3bf92e14f",
   "metadata": {},
   "outputs": [],
   "source": [
    "import torch\n",
    "from simulator import blogm, bSqc, Neg, Sa\n",
    "%run 'utils.py'"
   ]
  },
  {
   "cell_type": "markdown",
   "id": "46fec8b8-e54a-4e51-bee7-53c2546a4e2b",
   "metadata": {},
   "source": [
    "## load test result"
   ]
  },
  {
   "cell_type": "code",
   "execution_count": 8,
   "id": "6c317938-40ff-4fed-bec9-fb417a3a9680",
   "metadata": {},
   "outputs": [
    {
     "data": {
      "text/plain": [
       "[[4, 0.364736407995224, 0.4148503541946411, 0.6909874081611633],\n",
       " [6, 0.40908727049827576, 0.4030132293701172, 0.6922643184661865],\n",
       " [8, 0.5202898979187012, 0.3697245419025421, 0.6928110718727112],\n",
       " [10, 0.6350785493850708, 0.32931357622146606, 0.6939518451690674],\n",
       " [12, 0.7240471839904785, 0.2949746251106262, 0.6931992173194885],\n",
       " [14, 0.7473224401473999, 0.28529077768325806, 0.6953920125961304],\n",
       " [16, 0.8022655248641968, 0.262577623128891, 0.6955318450927734],\n",
       " [18, 0.8470113277435303, 0.24008946120738983, 0.6964192390441895],\n",
       " [20, 0.9177682995796204, 0.20551328361034393, 0.695112943649292],\n",
       " [22, 0.9770315289497375, 0.1711874008178711, 0.6958082318305969],\n",
       " [24, 1.0242738723754883, 0.14908725023269653, 0.6973040103912354],\n",
       " [26, 1.053487777709961, 0.13219453394412994, 0.6959724426269531],\n",
       " [28, 1.0787769556045532, 0.11860309541225433, 0.6969874501228333],\n",
       " [30, 1.09284245967865, 0.106590636074543, 0.6972158551216125],\n",
       " [32, 1.1137124300003052, 0.0917612835764885, 0.6957629919052124],\n",
       " [34, 1.1425203084945679, 0.06791458278894424, 0.6959096789360046]]"
      ]
     },
     "execution_count": 8,
     "metadata": {},
     "output_type": "execute_result"
    }
   ],
   "source": [
    "# MPO no ancilla\n",
    "\n",
    "seed = 0\n",
    "\n",
    "mps_out = []\n",
    "for N in range(4,36,2):\n",
    "    l = torch.load(f'MPO/seed{seed}/record/mpo_N={N}_na.pt')\n",
    "    mps_out.append([N, torch.tensor(l['test Sqc']).view(-1,200).mean(-1)[-1].item(), torch.tensor(l['test Neg']).view(-1,200).mean(-1)[-1].item(), torch.tensor(l['test Sa']).view(-1,200).mean(-1)[-1].item()])\n",
    "mps_out"
   ]
  },
  {
   "cell_type": "code",
   "execution_count": null,
   "id": "3ca06ee2-07d4-4c98-a6c9-330214f46362",
   "metadata": {},
   "outputs": [],
   "source": [
    "torch.save(mps_out, 'mps_out.pt')"
   ]
  },
  {
   "cell_type": "code",
   "execution_count": 6,
   "id": "ac442dd6-81f9-4a2d-b63b-082e73cbed24",
   "metadata": {},
   "outputs": [
    {
     "data": {
      "text/plain": [
       "[[4, 0.37280037999153137, 0.4131636321544647, 0.6908037066459656],\n",
       " [6, 0.4102906882762909, 0.4040994644165039, 0.6921830773353577],\n",
       " [8, 0.5034903883934021, 0.37162959575653076, 0.6910855770111084],\n",
       " [10, 0.6337853670120239, 0.3275477886199951, 0.6922305822372437],\n",
       " [12, 0.7163309454917908, 0.29513853788375854, 0.6901062726974487],\n",
       " [14, 0.7441816926002502, 0.28241536021232605, 0.6907975077629089],\n",
       " [16, 0.8188619017601013, 0.25158053636550903, 0.6924182772636414],\n",
       " [18, 0.8491512537002563, 0.2365495264530182, 0.6923715472221375],\n",
       " [20, 0.9247498512268066, 0.19789540767669678, 0.6917109489440918],\n",
       " [22, 0.9647826552391052, 0.17572282254695892, 0.6921895742416382],\n",
       " [24, 1.0269538164138794, 0.14290118217468262, 0.6924147009849548],\n",
       " [26, 1.0608333349227905, 0.12394537031650543, 0.69263756275177],\n",
       " [28, 1.0915954113006592, 0.10315950214862823, 0.6919042468070984],\n",
       " [30, 1.110666275024414, 0.08745766431093216, 0.6927810907363892],\n",
       " [32, 1.1533000469207764, 0.06018567085266113, 0.6918057203292847],\n",
       " [34, 1.1651283502578735, 0.043738022446632385, 0.6926090121269226]]"
      ]
     },
     "execution_count": 6,
     "metadata": {},
     "output_type": "execute_result"
    }
   ],
   "source": [
    "# GPT no ancilla\n",
    "\n",
    "seed = 1\n",
    "\n",
    "gpt_out = []\n",
    "for N in range(4,36,2):\n",
    "    l = torch.load(f'GPT_together/seed{seed}/record/gpt_N={N}_na.pt')\n",
    "    gpt_out.append([N, torch.tensor(l['test Sqc']).view(-1,200).mean(-1)[-1].item(), torch.tensor(l['test Neg']).view(-1,200).mean(-1)[-1].item(), torch.tensor(l['test Sa']).view(-1,200).mean(-1)[-1].item()])\n",
    "gpt_out"
   ]
  },
  {
   "cell_type": "code",
   "execution_count": null,
   "id": "04e1e179-c4fc-4a98-abde-62a52212a4cd",
   "metadata": {},
   "outputs": [],
   "source": [
    "torch.save(gpt_out, 'gpt_out.pt')"
   ]
  },
  {
   "cell_type": "code",
   "execution_count": 18,
   "id": "f6e9d11f-c35e-4b80-8c80-0dd83720f4a4",
   "metadata": {},
   "outputs": [
    {
     "data": {
      "text/plain": [
       "[[4.0, 0.3428572714328766, 0.4156380593776703, 0.690356433391571],\n",
       " [6.0, 0.41091853380203247, 0.402197003364563, 0.692847728729248],\n",
       " [8.0, 0.5166348814964294, 0.3672751486301422, 0.6913062334060669],\n",
       " [10.0, 0.6294348239898682, 0.3269994258880615, 0.6922630667686462],\n",
       " [12.0, 0.7291556000709534, 0.28883981704711914, 0.6910691857337952],\n",
       " [14.0, 0.7473121881484985, 0.2804356813430786, 0.6922895312309265],\n",
       " [16.0, 0.8035220503807068, 0.25721192359924316, 0.692607045173645],\n",
       " [18.0, 0.8459492325782776, 0.23498696088790894, 0.6922763586044312],\n",
       " [20.0, 0.9218083024024963, 0.1987570822238922, 0.6921411156654358],\n",
       " [22.0, 0.9797119498252869, 0.1657753586769104, 0.6922236680984497],\n",
       " [24.0, 1.0364395380020142, 0.13523675501346588, 0.6929530501365662],\n",
       " [26.0, 1.0684419870376587, 0.1155228465795517, 0.6924346089363098],\n",
       " [28.0, 1.091583490371704, 0.10212676227092743, 0.6920670866966248],\n",
       " [30.0, 1.1075443029403687, 0.0894465371966362, 0.692672848701477],\n",
       " [32.0, 1.1272104978561401, 0.07539307326078415, 0.6918377876281738],\n",
       " [34.0, 1.159451961517334, 0.04631007835268974, 0.6926855444908142]]"
      ]
     },
     "execution_count": 18,
     "metadata": {},
     "output_type": "execute_result"
    }
   ],
   "source": [
    "# post select\n",
    "\n",
    "seed = 0\n",
    "train_size = 800000\n",
    "\n",
    "post_out = []\n",
    "for N in range(4,36,2):\n",
    "    torch.manual_seed(seed)\n",
    "    prepseq, shadow_state, rhoS = torch_data(f'data/data_{N}na.pickle', shuffle=True)\n",
    "    prepseq, shadow_state, rhoS = prepseq[train_size:], shadow_state[train_size:], rhoS[train_size:]\n",
    "    for i in range(2):\n",
    "        for j in range(2):\n",
    "            idx = (prepseq[:,::2].sum(-1)%2 == i)*(prepseq[:,1::2].sum(-1)%2 == j)\n",
    "            rhoC = rhoS[idx].mean(0, keepdim=True)\n",
    "            post_out.append([N, bSqc(rhoC,rhoC).item(), Neg(rhoC, rhoC).item(), Sa(rhoC, rhoC).item()])\n",
    "post_out = torch.tensor(post_out).view(-1, 4, 4).mean(1).tolist()\n",
    "post_out"
   ]
  },
  {
   "cell_type": "code",
   "execution_count": 17,
   "id": "0654c425-ba2f-4085-946b-28c1c5205ce4",
   "metadata": {},
   "outputs": [],
   "source": [
    "torch.save(post_out, 'post_out.pt')"
   ]
  },
  {
   "cell_type": "markdown",
   "id": "09980dae-4df0-43b7-944d-1eed12cd3ef9",
   "metadata": {
    "jp-MarkdownHeadingCollapsed": true,
    "tags": []
   },
   "source": [
    "## prepare N-mixed data"
   ]
  },
  {
   "cell_type": "code",
   "execution_count": 3,
   "id": "03d85277-949d-4374-a6a3-f7c785dc0f78",
   "metadata": {},
   "outputs": [],
   "source": [
    "seed = 0\n",
    "prepseq_all, shadow_state_all, rhoS_all = [], [], []\n",
    "for N in range(4,36,2):\n",
    "    torch.manual_seed(seed)\n",
    "    prepseq, shadow_state, rhoS = torch_data(f'data/data_{N}na.pickle', shuffle=True)\n",
    "    prepseq = torch.cat([prepseq+2, torch.zeros(prepseq.shape[0], 32-prepseq.shape[1], dtype=prepseq.dtype), torch.ones(prepseq.shape[0], 1, dtype=prepseq.dtype)], 1)\n",
    "    prepseq_all.append(prepseq[None,...])\n",
    "    shadow_state_all.append(shadow_state[None,...])\n",
    "    rhoS_all.append(rhoS[None,...])\n",
    "prepseq_all = torch.cat(prepseq_all)\n",
    "shadow_state_all = torch.cat(shadow_state_all)\n",
    "rhoS_all = torch.cat(rhoS_all)"
   ]
  },
  {
   "cell_type": "code",
   "execution_count": 4,
   "id": "6c22e7cf-f9bc-48c3-a530-5a5e19666779",
   "metadata": {},
   "outputs": [
    {
     "data": {
      "text/plain": [
       "torch.Size([16, 900000, 33])"
      ]
     },
     "execution_count": 4,
     "metadata": {},
     "output_type": "execute_result"
    }
   ],
   "source": [
    "prepseq_all.shape"
   ]
  },
  {
   "cell_type": "code",
   "execution_count": 5,
   "id": "3ebd2acf-47e4-4f70-a663-379291a850f3",
   "metadata": {},
   "outputs": [],
   "source": [
    "torch.save(prepseq_all, f'data/prepseq_all.pt')\n",
    "torch.save(shadow_state_all, f'data/shadow_state_all.pt')\n",
    "torch.save(rhoS_all, f'data/rhoS_all.pt')"
   ]
  },
  {
   "cell_type": "code",
   "execution_count": 2,
   "id": "ab1de2f6-a105-4b43-b8b8-d99037e2f8da",
   "metadata": {},
   "outputs": [],
   "source": [
    "prepseq_all = torch.load(f'data/prepseq_all.pt')\n",
    "shadow_state_all = torch.load(f'data/shadow_state_all.pt')\n",
    "rhoS_all = torch.load(f'data/rhoS_all.pt')"
   ]
  },
  {
   "cell_type": "code",
   "execution_count": 3,
   "id": "7cd10b0d-2105-464e-9fb5-e2e8f07f8cd3",
   "metadata": {},
   "outputs": [],
   "source": [
    "train_ratio = 8/9\n",
    "\n",
    "train_size = int(prepseq_all.shape[1]*train_ratio)\n",
    "test_size = prepseq_all.shape[1]-train_size\n",
    "\n",
    "prepseq_train, prepseq_test = prepseq_all[:,:train_size], prepseq_all[:,train_size:]\n",
    "shadow_state_train, shadow_state_test = shadow_state_all[:,:train_size], shadow_state_all[:,train_size:]\n",
    "rhoS_train, rhoS_test = rhoS_all[:,:train_size], rhoS_all[:,train_size:]"
   ]
  },
  {
   "cell_type": "code",
   "execution_count": 5,
   "id": "a4108fe9-29a2-4b42-9f29-8b742ea22a1c",
   "metadata": {},
   "outputs": [],
   "source": [
    "seed = 0\n",
    "torch.manual_seed(seed)\n",
    "prepseq_train, shadow_state_train, rhoS_train = shuffle(prepseq_train.flatten(0,1), shadow_state_train.flatten(0,1), rhoS_train.flatten(0,1))"
   ]
  },
  {
   "cell_type": "code",
   "execution_count": 6,
   "id": "d512df0d-4028-45fb-af7a-6e24c9e85caa",
   "metadata": {},
   "outputs": [],
   "source": [
    "torch.save(prepseq_train, f'data/prepseq_train.pt')\n",
    "torch.save(shadow_state_train, f'data/shadow_state_train.pt')\n",
    "torch.save(rhoS_train, f'data/rhoS_train.pt')"
   ]
  },
  {
   "cell_type": "code",
   "execution_count": 7,
   "id": "2d5f4bec-85f9-4dc9-97df-4bcdf6d48b92",
   "metadata": {},
   "outputs": [],
   "source": [
    "torch.save(prepseq_test, f'data/prepseq_test.pt')\n",
    "torch.save(shadow_state_test, f'data/shadow_state_test.pt')\n",
    "torch.save(rhoS_test, f'data/rhoS_test.pt')"
   ]
  },
  {
   "cell_type": "code",
   "execution_count": null,
   "id": "f0d9972a-64f1-4c9e-8627-4d3a4ca1f77d",
   "metadata": {},
   "outputs": [],
   "source": []
  }
 ],
 "metadata": {
  "kernelspec": {
   "display_name": "Python 3 (ipykernel)",
   "language": "python",
   "name": "python3"
  },
  "language_info": {
   "codemirror_mode": {
    "name": "ipython",
    "version": 3
   },
   "file_extension": ".py",
   "mimetype": "text/x-python",
   "name": "python",
   "nbconvert_exporter": "python",
   "pygments_lexer": "ipython3",
   "version": "3.10.9"
  }
 },
 "nbformat": 4,
 "nbformat_minor": 5
}
