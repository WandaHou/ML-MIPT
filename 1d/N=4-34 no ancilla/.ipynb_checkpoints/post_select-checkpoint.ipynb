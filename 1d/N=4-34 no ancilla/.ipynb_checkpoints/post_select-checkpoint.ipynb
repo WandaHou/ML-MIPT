{
 "cells": [
  {
   "cell_type": "code",
   "execution_count": 2,
   "id": "6bf45916-546f-4c69-8459-9c8ae836f414",
   "metadata": {
    "tags": []
   },
   "outputs": [],
   "source": [
    "from simulator import blogm, bSqc\n",
    "import torch\n",
    "from math import prod\n",
    "from functools import reduce\n",
    "import pandas\n",
    "from utils import dtype, device, pauli, basis, torch_data"
   ]
  },
  {
   "cell_type": "code",
   "execution_count": 8,
   "id": "56aabbf4-599c-42d4-aec1-6adde4bc0448",
   "metadata": {},
   "outputs": [],
   "source": [
    "def Neg(rhoC):\n",
    "    rhoC_pt = rhoC.view(-1,2,2,2,2).permute(0,1,4,3,2).reshape(-1,4,4)\n",
    "    e, v = torch.linalg.eig(rhoC_pt)\n",
    "    mask = e.real < 0\n",
    "    negative_v = v * mask.unsqueeze(1)\n",
    "    P = torch.bmm(negative_v, negative_v.mT.conj()) # projection matrix\n",
    "    return -torch.vmap(torch.trace)(torch.bmm(P, rhoC_pt))"
   ]
  },
  {
   "cell_type": "code",
   "execution_count": 4,
   "id": "aa9d3567-b236-45f3-a1b2-32be3ebd12e0",
   "metadata": {},
   "outputs": [
    {
     "name": "stdout",
     "output_type": "stream",
     "text": [
      "4 tensor([[-0.1321,  0.0157,  0.1582,  0.9582]], dtype=torch.float64)\n",
      "4 tensor([[-0.1197, -0.0338,  0.2517,  0.9018]], dtype=torch.float64)\n",
      "4 tensor([[-0.0971, -0.0381,  0.1743,  0.9609]], dtype=torch.float64)\n",
      "4 tensor([[-0.2297,  0.0524,  0.1137,  1.0636]], dtype=torch.float64)\n",
      "6 tensor([[-0.1803, -0.0052,  0.2236,  0.9620]], dtype=torch.float64)\n",
      "6 tensor([[-0.1578,  0.0273,  0.1085,  1.0220]], dtype=torch.float64)\n",
      "6 tensor([[-0.0967,  0.0558,  0.1138,  0.9271]], dtype=torch.float64)\n",
      "6 tensor([[-0.1143, -0.0465,  0.1767,  0.9841]], dtype=torch.float64)\n",
      "8 tensor([[-0.1432, -0.0143,  0.1208,  1.0367]], dtype=torch.float64)\n",
      "8 tensor([[-0.1669, -0.0127,  0.3287,  0.8509]], dtype=torch.float64)\n",
      "8 tensor([[-0.0599,  0.0350,  0.1616,  0.8633]], dtype=torch.float64)\n",
      "8 tensor([[-0.1037,  0.0401,  0.1355,  0.9281]], dtype=torch.float64)\n",
      "10 tensor([[-0.1411, -0.0359,  0.1458,  1.0313]], dtype=torch.float64)\n",
      "10 tensor([[-0.0760,  0.0044,  0.1070,  0.9646]], dtype=torch.float64)\n",
      "10 tensor([[-0.1499,  0.0392,  0.3141,  0.7966]], dtype=torch.float64)\n",
      "10 tensor([[-0.0325,  0.0633,  0.1867,  0.7825]], dtype=torch.float64)\n",
      "12 tensor([[-0.0954,  0.0496,  0.1138,  0.9320]], dtype=torch.float64)\n",
      "12 tensor([[-0.0879,  0.0676,  0.1669,  0.8534]], dtype=torch.float64)\n",
      "12 tensor([[-0.1406,  0.0354,  0.2247,  0.8805]], dtype=torch.float64)\n",
      "12 tensor([[-0.1642,  0.0746,  0.2694,  0.8202]], dtype=torch.float64)\n",
      "14 tensor([[-0.0642,  0.0365,  0.1658,  0.8620]], dtype=torch.float64)\n",
      "14 tensor([[-0.1146,  0.0531,  0.1575,  0.9040]], dtype=torch.float64)\n",
      "14 tensor([[-0.1258,  0.0474,  0.1695,  0.9090]], dtype=torch.float64)\n",
      "14 tensor([[-0.1004,  0.0534,  0.2409,  0.8061]], dtype=torch.float64)\n",
      "16 tensor([[-0.0729,  0.0851,  0.2430,  0.7448]], dtype=torch.float64)\n",
      "16 tensor([[-0.0341,  0.0152,  0.1390,  0.8800]], dtype=torch.float64)\n",
      "16 tensor([[-0.0916,  0.1230,  0.1785,  0.7901]], dtype=torch.float64)\n",
      "16 tensor([[-0.1710,  0.0948,  0.1509,  0.9254]], dtype=torch.float64)\n",
      "18 tensor([[-0.0909, -0.0113,  0.1969,  0.9053]], dtype=torch.float64)\n",
      "18 tensor([[-0.0523,  0.0845,  0.1992,  0.7686]], dtype=torch.float64)\n",
      "18 tensor([[-0.0139,  0.0745,  0.2230,  0.7164]], dtype=torch.float64)\n",
      "18 tensor([[-0.0739,  0.0430,  0.1231,  0.9079]], dtype=torch.float64)\n",
      "20 tensor([[-0.0216,  0.1250,  0.2395,  0.6571]], dtype=torch.float64)\n",
      "20 tensor([[-0.0784,  0.0419,  0.4051,  0.6314]], dtype=torch.float64)\n",
      "20 tensor([[-0.0760,  0.0779,  0.1596,  0.8384]], dtype=torch.float64)\n",
      "20 tensor([[-0.1816,  0.0021,  0.2406,  0.9390]], dtype=torch.float64)\n",
      "22 tensor([[-0.0205,  0.0614,  0.1640,  0.7951]], dtype=torch.float64)\n",
      "22 tensor([[-0.1186,  0.0390,  0.2960,  0.7836]], dtype=torch.float64)\n",
      "22 tensor([[0.0188, 0.1454, 0.2054, 0.6304]], dtype=torch.float64)\n",
      "22 tensor([[-0.1504,  0.1468,  0.3151,  0.6886]], dtype=torch.float64)\n",
      "24 tensor([[-0.1353,  0.0026,  0.2920,  0.8408]], dtype=torch.float64)\n",
      "24 tensor([[-0.0225,  0.0875,  0.2565,  0.6784]], dtype=torch.float64)\n",
      "24 tensor([[-0.0824,  0.1174,  0.2148,  0.7502]], dtype=torch.float64)\n",
      "24 tensor([[-0.0189,  0.0911,  0.1996,  0.7282]], dtype=torch.float64)\n",
      "26 tensor([[-0.0720,  0.1030,  0.3377,  0.6313]], dtype=torch.float64)\n",
      "26 tensor([[-0.0625,  0.0815,  0.2511,  0.7299]], dtype=torch.float64)\n",
      "26 tensor([[-0.0387,  0.0790,  0.2127,  0.7469]], dtype=torch.float64)\n",
      "26 tensor([[-7.7331e-02,  4.7491e-04,  3.4247e-01,  7.3438e-01]],\n",
      "       dtype=torch.float64)\n",
      "28 tensor([[-0.0894,  0.1814,  0.3180,  0.5901]], dtype=torch.float64)\n",
      "28 tensor([[-0.1155,  0.1365,  0.2980,  0.6809]], dtype=torch.float64)\n",
      "28 tensor([[-0.1863,  0.1272,  0.3880,  0.6711]], dtype=torch.float64)\n",
      "28 tensor([[-0.0771,  0.0957,  0.2551,  0.7263]], dtype=torch.float64)\n",
      "30 tensor([[-0.0428,  0.1274,  0.3313,  0.5841]], dtype=torch.float64)\n",
      "30 tensor([[0.0132, 0.0962, 0.2134, 0.6773]], dtype=torch.float64)\n",
      "30 tensor([[-0.1523,  0.1702,  0.2785,  0.7036]], dtype=torch.float64)\n",
      "30 tensor([[-5.1733e-04,  9.9305e-02,  2.7425e-01,  6.2696e-01]],\n",
      "       dtype=torch.float64)\n",
      "32 tensor([[-0.0032,  0.0608,  0.2068,  0.7356]], dtype=torch.float64)\n",
      "32 tensor([[0.0114, 0.1863, 0.3366, 0.4656]], dtype=torch.float64)\n",
      "32 tensor([[0.0309, 0.1591, 0.1794, 0.6306]], dtype=torch.float64)\n",
      "32 tensor([[-0.0939,  0.1666,  0.3402,  0.5871]], dtype=torch.float64)\n",
      "34 tensor([[-0.0230,  0.1040,  0.3217,  0.5974]], dtype=torch.float64)\n",
      "34 tensor([[0.0028, 0.0680, 0.2113, 0.7179]], dtype=torch.float64)\n",
      "34 tensor([[-0.0503,  0.1181,  0.1687,  0.7635]], dtype=torch.float64)\n",
      "34 tensor([[-0.0159,  0.1720,  0.3296,  0.5144]], dtype=torch.float64)\n"
     ]
    }
   ],
   "source": [
    "seed = 1\n",
    "batch = 1000\n",
    "Cab = []\n",
    "Nab = []\n",
    "Iab = []\n",
    "S = []\n",
    "for N in range(4,36,2):\n",
    "    torch.manual_seed(seed)\n",
    "    prepseq, shadow_state, rhoS = torch_data(f'data/data_{N}na.pickle', shuffle=True)\n",
    "    prepseq, rhoS = prepseq[:batch], rhoS[:batch]\n",
    "    Sab = []\n",
    "    Sa = []\n",
    "    Sb = []\n",
    "    nab = []\n",
    "    for i in range(2):\n",
    "        for j in range(2):\n",
    "            idx = (prepseq[:,::2].sum(-1)%2 == i)*(prepseq[:,1::2].sum(-1)%2 == j) # even even\n",
    "            #rhoQ = rhoS[idx]\n",
    "            rhoC = rhoS[idx].mean(0, keepdim=True)#.expand(rhoQ.shape[0], -1, -1)\n",
    "            print(N, torch.linalg.eigh(rhoC)[0])"
   ]
  },
  {
   "cell_type": "code",
   "execution_count": 9,
   "id": "96f11ab3-8f5a-4025-a32c-4776639832eb",
   "metadata": {},
   "outputs": [
    {
     "name": "stdout",
     "output_type": "stream",
     "text": [
      "[4, -0.34512966871261597] [4, 0.4161908181419851] [4, 0.3452903926372528] [4, 1.0356543064117432]\n",
      "[6, -0.28219592571258545] [6, 0.4031179589060442] [6, 0.4106970727443695] [6, 0.9743993282318115]\n",
      "[8, -0.1616889238357544] [8, 0.364555278999356] [8, 0.5299661159515381] [8, 0.8536885976791382]\n",
      "[10, -0.05578520894050598] [10, 0.32714164149997227] [10, 0.6369645595550537] [10, 0.7477066516876221]\n",
      "[12, 0.038201987743377686] [12, 0.28831173424823126] [12, 0.7296797037124634] [12, 0.6538510322570801]\n",
      "[14, 0.06269031763076782] [14, 0.2779372068014095] [14, 0.7550188302993774] [14, 0.6296133995056152]\n",
      "[16, 0.10593755543231964] [16, 0.2584139875257764] [16, 0.7986729145050049] [16, 0.5862311720848083]\n",
      "[18, 0.15986457467079163] [18, 0.2347814696186365] [18, 0.8523066639900208] [18, 0.5324283838272095]\n",
      "[20, 0.22312593460083008] [20, 0.20316211270553117] [20, 0.9150152802467346] [20, 0.46947383880615234]\n",
      "[22, 0.27404463291168213] [22, 0.17412918102743494] [22, 0.966576337814331] [22, 0.4176420569419861]\n",
      "[24, 0.33618807792663574] [24, 0.14006117106316548] [24, 1.0292555093765259] [24, 0.35619571805000305]\n",
      "[26, 0.3666740357875824] [26, 0.12007678508983165] [26, 1.0593851804733276] [26, 0.32557007670402527]\n",
      "[28, 0.40374329686164856] [28, 0.09895710327407041] [28, 1.095947265625] [28, 0.28869229555130005]\n",
      "[30, 0.41315779089927673] [30, 0.08939554915837371] [30, 1.1061794757843018] [30, 0.2790989875793457]\n",
      "[32, 0.44531333446502686] [32, 0.06870474984577735] [32, 1.1377239227294922] [32, 0.24700459837913513]\n",
      "[34, 0.46597200632095337] [34, 0.051905491878576474] [34, 1.158757209777832] [34, 0.2264164686203003]\n"
     ]
    }
   ],
   "source": [
    "seed = 1\n",
    "batch = 200000\n",
    "Cab = []\n",
    "Nab = []\n",
    "Iab = []\n",
    "S = []\n",
    "for N in range(4,36,2):\n",
    "    torch.manual_seed(seed)\n",
    "    prepseq, shadow_state, rhoS = torch_data(f'data/data_{N}na.pickle', shuffle=True)\n",
    "    prepseq, rhoS = prepseq[:batch], rhoS[:batch]\n",
    "    Sab = []\n",
    "    Sa = []\n",
    "    Sb = []\n",
    "    nab = []\n",
    "    for i in range(2):\n",
    "        for j in range(2):\n",
    "            idx = (prepseq[:,::2].sum(-1)%2 == i)*(prepseq[:,1::2].sum(-1)%2 == j) # even even\n",
    "            #rhoQ = rhoS[idx]\n",
    "            rhoC = rhoS[idx].mean(0, keepdim=True)#.expand(rhoQ.shape[0], -1, -1)\n",
    "            rhoCa = torch.einsum('bijkj->bik', rhoC.view(-1,2,2,2,2))\n",
    "            rhoCb = torch.einsum('bijil->bjl', rhoC.view(-1,2,2,2,2))\n",
    "            Sab.append(bSqc(rhoC, rhoC).item())\n",
    "            Sa.append(bSqc(rhoCa, rhoCa).item())\n",
    "            Sb.append(bSqc(rhoCb, rhoCb).item())\n",
    "            nab.append(Neg(rhoC))\n",
    "    S.append([N, torch.tensor(Sab).mean().item()])\n",
    "    Iab.append([N, (torch.tensor(Sa)+torch.tensor(Sb)-torch.tensor(Sab)).mean().item()])\n",
    "    Cab.append([N, (torch.tensor(Sab)-torch.tensor(Sa)).mean().item()])\n",
    "    Nab.append([N,torch.cat(nab).mean().real.item()])\n",
    "    print(Cab[-1], Nab[-1], S[-1], Iab[-1])"
   ]
  },
  {
   "cell_type": "code",
   "execution_count": 10,
   "id": "71567bcf-ec46-4586-bdd1-1a76c65d4940",
   "metadata": {},
   "outputs": [],
   "source": [
    "torch.save(torch.tensor(Cab), 'analyze/post_Cab.pt')\n",
    "torch.save(torch.tensor(Nab), 'analyze/post_neg.pt')\n",
    "torch.save(torch.tensor(S), 'analyze/post_Sab.pt')\n",
    "torch.save(torch.tensor(Iab), 'analyze/post_Iab.pt')"
   ]
  },
  {
   "cell_type": "code",
   "execution_count": null,
   "id": "2a349f39-30e1-4568-88e2-31f9f628195d",
   "metadata": {},
   "outputs": [],
   "source": []
  }
 ],
 "metadata": {
  "kernelspec": {
   "display_name": "Python 3 (ipykernel)",
   "language": "python",
   "name": "python3"
  },
  "language_info": {
   "codemirror_mode": {
    "name": "ipython",
    "version": 3
   },
   "file_extension": ".py",
   "mimetype": "text/x-python",
   "name": "python",
   "nbconvert_exporter": "python",
   "pygments_lexer": "ipython3",
   "version": "3.10.9"
  }
 },
 "nbformat": 4,
 "nbformat_minor": 5
}
