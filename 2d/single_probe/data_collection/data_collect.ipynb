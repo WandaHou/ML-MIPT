{
 "cells": [
  {
   "cell_type": "code",
   "execution_count": 1,
   "metadata": {},
   "outputs": [
    {
     "name": "stderr",
     "output_type": "stream",
     "text": [
      "/Users/hwanda/anaconda3/lib/python3.10/site-packages/pandas/core/arrays/masked.py:60: UserWarning: Pandas requires version '1.3.6' or newer of 'bottleneck' (version '1.3.5' currently installed).\n",
      "  from pandas.core import (\n"
     ]
    }
   ],
   "source": [
    "import cirq\n",
    "import cirq_google as cg\n",
    "import torch\n",
    "import numpy as np\n",
    "from shallow_cirq1 import get_circuit, get_two_qubits, get_single_qubit"
   ]
  },
  {
   "cell_type": "code",
   "execution_count": 2,
   "metadata": {},
   "outputs": [],
   "source": [
    "# Set up the real engine and sampler on Willow Delphi\n",
    "run_name = 'Feb_1_cz_calibration'\n",
    "eng = cg.get_engine('serious-cat-404923')\n",
    "sampler_real = eng.get_sampler(processor_id='WIL01_3A_DELPHI', run_name=run_name, device_config_name='cz_71')"
   ]
  },
  {
   "cell_type": "code",
   "execution_count": 3,
   "metadata": {},
   "outputs": [],
   "source": [
    "# Set up simulate sampler\n",
    "sampler_sim = cirq.Simulator()"
   ]
  },
  {
   "cell_type": "code",
   "execution_count": 3,
   "metadata": {},
   "outputs": [
    {
     "data": {
      "text/plain": [
       "Counter({0: 497, 3: 485, 1: 6, 2: 12})"
      ]
     },
     "execution_count": 3,
     "metadata": {},
     "output_type": "execute_result"
    }
   ],
   "source": [
    "# test Bell state\n",
    "qubits = [cirq.GridQubit(4,4), cirq.GridQubit(4,5)]\n",
    "cir = cirq.Circuit(cirq.H.on_each(*qubits), cirq.CZ(*qubits), cirq.H(qubits[1]), cirq.M(*qubits, key='m'))\n",
    "result = sampler_real.run(cir, repetitions=1000)\n",
    "result.histogram(key='m')"
   ]
  },
  {
   "cell_type": "markdown",
   "metadata": {},
   "source": [
    "### Two probe qubits experiment"
   ]
  },
  {
   "cell_type": "markdown",
   "metadata": {},
   "source": [
    "#### Get qubits"
   ]
  },
  {
   "cell_type": "code",
   "execution_count": 4,
   "metadata": {},
   "outputs": [
    {
     "name": "stdout",
     "output_type": "stream",
     "text": [
      "55\n"
     ]
    }
   ],
   "source": [
    "#size = '3x3'\n",
    "#size = '5x5'\n",
    "size = '6x6'\n",
    "qubits_matrix, probe_qubits, anc_pairs, all_qubits = get_two_qubits(size, anc=True)\n",
    "print(len(all_qubits))\n",
    "# circ = get_circuit(qubits_matrix, theta=1, phi=1, probe_qubits=probe_qubits, basis=[1,1], anc_pairs=anc_pairs)\n",
    "# circ"
   ]
  },
  {
   "cell_type": "code",
   "execution_count": 5,
   "metadata": {},
   "outputs": [
    {
     "data": {
      "text/plain": [
       "[cirq.GridQubit(3, 7), cirq.GridQubit(8, 7)]"
      ]
     },
     "execution_count": 5,
     "metadata": {},
     "output_type": "execute_result"
    }
   ],
   "source": [
    "probe_qubits"
   ]
  },
  {
   "cell_type": "markdown",
   "metadata": {},
   "source": [
    "#### Collect data"
   ]
  },
  {
   "cell_type": "code",
   "execution_count": 6,
   "metadata": {},
   "outputs": [
    {
     "name": "stdout",
     "output_type": "stream",
     "text": [
      "loop=0, size=6x6, theta=10, basis=0,0\n",
      "loop=0, size=6x6, theta=10, basis=0,1\n",
      "loop=0, size=6x6, theta=10, basis=0,2\n",
      "loop=0, size=6x6, theta=10, basis=1,0\n",
      "loop=0, size=6x6, theta=10, basis=1,1\n",
      "loop=0, size=6x6, theta=10, basis=1,2\n",
      "loop=0, size=6x6, theta=10, basis=2,0\n",
      "loop=0, size=6x6, theta=10, basis=2,1\n",
      "loop=0, size=6x6, theta=10, basis=2,2\n"
     ]
    }
   ],
   "source": [
    "# collect data\n",
    "sampler = sampler_real\n",
    "theta_range = np.linspace(0, np.pi/2, 11)\n",
    "phi = np.pi*(5/4)\n",
    "repetitions = 10**5\n",
    "\n",
    "for i in range(1):\n",
    "    for theta_idx in [10]:\n",
    "        for b1 in range(3):\n",
    "            for b2 in range(3):\n",
    "                circ = get_circuit(qubits_matrix, theta=theta_range[theta_idx], phi=phi, probe_qubits=probe_qubits, basis=[b1,b2], anc_pairs=anc_pairs)\n",
    "                circ.append(cirq.measure(*all_qubits, key='m'))\n",
    "                result = sampler.run(circ, repetitions=repetitions)\n",
    "                hist = result.histogram(key='m')\n",
    "                print(f'loop={i}, size={size}, theta={theta_idx}, basis={b1},{b2}')\n",
    "                np.save(f'data/{run_name}_d=5/two_probes_{i}/data_{size}/hist/theta={theta_idx}_({b1},{b2}).npy', np.array(list(hist.items()))) # save histogram\n",
    "                torch.save(torch.tensor(result.measurements['m']).to(int), f'data/{run_name}_d=5/two_probes_{i}/data_{size}/seq/theta={theta_idx}_({b1},{b2}).pt') # save sequence"
   ]
  },
  {
   "cell_type": "code",
   "execution_count": 7,
   "metadata": {},
   "outputs": [
    {
     "data": {
      "text/plain": [
       "(100000, 55)"
      ]
     },
     "execution_count": 7,
     "metadata": {},
     "output_type": "execute_result"
    }
   ],
   "source": [
    "result.measurements['m'].shape"
   ]
  },
  {
   "cell_type": "code",
   "execution_count": null,
   "metadata": {},
   "outputs": [],
   "source": [
    "print(\"Circuit depth:\", len(circ))\n",
    "#print(circ)"
   ]
  },
  {
   "cell_type": "code",
   "execution_count": null,
   "metadata": {},
   "outputs": [],
   "source": [
    "all_qubits"
   ]
  },
  {
   "cell_type": "code",
   "execution_count": null,
   "metadata": {},
   "outputs": [],
   "source": [
    "print(all_qubits[0], all_qubits[2], all_qubits[8])\n",
    "print(all_qubits[-1], all_qubits[-4], all_qubits[-9])"
   ]
  },
  {
   "cell_type": "code",
   "execution_count": null,
   "metadata": {},
   "outputs": [],
   "source": [
    "print((result.measurements['m'][:,-1]==result.measurements['m'][:,-9]).mean())\n"
   ]
  },
  {
   "cell_type": "markdown",
   "metadata": {},
   "source": [
    "### Single qubit experiment"
   ]
  },
  {
   "cell_type": "markdown",
   "metadata": {},
   "source": [
    "#### Get qubits"
   ]
  },
  {
   "cell_type": "code",
   "execution_count": 7,
   "metadata": {},
   "outputs": [],
   "source": [
    "#size = '3x3'\n",
    "#size = '5x5'\n",
    "size = '6x6'\n",
    "qubits_matrix, probe_qubits, anc_pairs, all_qubits = get_single_qubit(size, anc=True)"
   ]
  },
  {
   "cell_type": "markdown",
   "metadata": {},
   "source": [
    "#### Collect data"
   ]
  },
  {
   "cell_type": "code",
   "execution_count": 8,
   "metadata": {},
   "outputs": [
    {
     "name": "stdout",
     "output_type": "stream",
     "text": [
      "loop=5, size=6x6, theta=0, basis=0\n",
      "loop=5, size=6x6, theta=0, basis=1\n",
      "loop=5, size=6x6, theta=0, basis=2\n",
      "loop=5, size=6x6, theta=1, basis=0\n",
      "loop=5, size=6x6, theta=1, basis=1\n",
      "loop=5, size=6x6, theta=1, basis=2\n",
      "loop=5, size=6x6, theta=2, basis=0\n",
      "loop=5, size=6x6, theta=2, basis=1\n",
      "loop=5, size=6x6, theta=2, basis=2\n",
      "loop=5, size=6x6, theta=3, basis=0\n",
      "loop=5, size=6x6, theta=3, basis=1\n",
      "loop=5, size=6x6, theta=3, basis=2\n",
      "loop=5, size=6x6, theta=4, basis=0\n",
      "loop=5, size=6x6, theta=4, basis=1\n",
      "loop=5, size=6x6, theta=4, basis=2\n",
      "loop=5, size=6x6, theta=5, basis=0\n",
      "loop=5, size=6x6, theta=5, basis=1\n",
      "loop=5, size=6x6, theta=5, basis=2\n",
      "loop=5, size=6x6, theta=6, basis=0\n",
      "loop=5, size=6x6, theta=6, basis=1\n",
      "loop=5, size=6x6, theta=6, basis=2\n",
      "loop=5, size=6x6, theta=7, basis=0\n",
      "loop=5, size=6x6, theta=7, basis=1\n",
      "loop=5, size=6x6, theta=7, basis=2\n",
      "loop=5, size=6x6, theta=8, basis=0\n",
      "loop=5, size=6x6, theta=8, basis=1\n",
      "loop=5, size=6x6, theta=8, basis=2\n",
      "loop=5, size=6x6, theta=9, basis=0\n",
      "loop=5, size=6x6, theta=9, basis=1\n",
      "loop=5, size=6x6, theta=9, basis=2\n",
      "loop=5, size=6x6, theta=10, basis=0\n",
      "loop=5, size=6x6, theta=10, basis=1\n",
      "loop=5, size=6x6, theta=10, basis=2\n",
      "loop=6, size=6x6, theta=0, basis=0\n",
      "loop=6, size=6x6, theta=0, basis=1\n",
      "loop=6, size=6x6, theta=0, basis=2\n",
      "loop=6, size=6x6, theta=1, basis=0\n",
      "loop=6, size=6x6, theta=1, basis=1\n",
      "loop=6, size=6x6, theta=1, basis=2\n",
      "loop=6, size=6x6, theta=2, basis=0\n",
      "loop=6, size=6x6, theta=2, basis=1\n",
      "loop=6, size=6x6, theta=2, basis=2\n",
      "loop=6, size=6x6, theta=3, basis=0\n",
      "loop=6, size=6x6, theta=3, basis=1\n",
      "loop=6, size=6x6, theta=3, basis=2\n",
      "loop=6, size=6x6, theta=4, basis=0\n",
      "loop=6, size=6x6, theta=4, basis=1\n",
      "loop=6, size=6x6, theta=4, basis=2\n",
      "loop=6, size=6x6, theta=5, basis=0\n",
      "loop=6, size=6x6, theta=5, basis=1\n",
      "loop=6, size=6x6, theta=5, basis=2\n",
      "loop=6, size=6x6, theta=6, basis=0\n",
      "loop=6, size=6x6, theta=6, basis=1\n",
      "loop=6, size=6x6, theta=6, basis=2\n",
      "loop=6, size=6x6, theta=7, basis=0\n",
      "loop=6, size=6x6, theta=7, basis=1\n",
      "loop=6, size=6x6, theta=7, basis=2\n",
      "loop=6, size=6x6, theta=8, basis=0\n",
      "loop=6, size=6x6, theta=8, basis=1\n",
      "loop=6, size=6x6, theta=8, basis=2\n",
      "loop=6, size=6x6, theta=9, basis=0\n",
      "loop=6, size=6x6, theta=9, basis=1\n",
      "loop=6, size=6x6, theta=9, basis=2\n",
      "loop=6, size=6x6, theta=10, basis=0\n",
      "loop=6, size=6x6, theta=10, basis=1\n",
      "loop=6, size=6x6, theta=10, basis=2\n",
      "loop=7, size=6x6, theta=0, basis=0\n",
      "loop=7, size=6x6, theta=0, basis=1\n",
      "loop=7, size=6x6, theta=0, basis=2\n",
      "loop=7, size=6x6, theta=1, basis=0\n",
      "loop=7, size=6x6, theta=1, basis=1\n",
      "loop=7, size=6x6, theta=1, basis=2\n",
      "loop=7, size=6x6, theta=2, basis=0\n",
      "loop=7, size=6x6, theta=2, basis=1\n",
      "loop=7, size=6x6, theta=2, basis=2\n",
      "loop=7, size=6x6, theta=3, basis=0\n",
      "loop=7, size=6x6, theta=3, basis=1\n",
      "loop=7, size=6x6, theta=3, basis=2\n",
      "loop=7, size=6x6, theta=4, basis=0\n",
      "loop=7, size=6x6, theta=4, basis=1\n",
      "loop=7, size=6x6, theta=4, basis=2\n",
      "loop=7, size=6x6, theta=5, basis=0\n",
      "loop=7, size=6x6, theta=5, basis=1\n",
      "loop=7, size=6x6, theta=5, basis=2\n",
      "loop=7, size=6x6, theta=6, basis=0\n",
      "loop=7, size=6x6, theta=6, basis=1\n",
      "loop=7, size=6x6, theta=6, basis=2\n",
      "loop=7, size=6x6, theta=7, basis=0\n",
      "loop=7, size=6x6, theta=7, basis=1\n",
      "loop=7, size=6x6, theta=7, basis=2\n",
      "loop=7, size=6x6, theta=8, basis=0\n",
      "loop=7, size=6x6, theta=8, basis=1\n",
      "loop=7, size=6x6, theta=8, basis=2\n",
      "loop=7, size=6x6, theta=9, basis=0\n",
      "loop=7, size=6x6, theta=9, basis=1\n",
      "loop=7, size=6x6, theta=9, basis=2\n",
      "loop=7, size=6x6, theta=10, basis=0\n",
      "loop=7, size=6x6, theta=10, basis=1\n",
      "loop=7, size=6x6, theta=10, basis=2\n",
      "loop=8, size=6x6, theta=0, basis=0\n",
      "loop=8, size=6x6, theta=0, basis=1\n",
      "loop=8, size=6x6, theta=0, basis=2\n",
      "loop=8, size=6x6, theta=1, basis=0\n",
      "loop=8, size=6x6, theta=1, basis=1\n",
      "loop=8, size=6x6, theta=1, basis=2\n",
      "loop=8, size=6x6, theta=2, basis=0\n",
      "loop=8, size=6x6, theta=2, basis=1\n",
      "loop=8, size=6x6, theta=2, basis=2\n",
      "loop=8, size=6x6, theta=3, basis=0\n",
      "loop=8, size=6x6, theta=3, basis=1\n",
      "loop=8, size=6x6, theta=3, basis=2\n",
      "loop=8, size=6x6, theta=4, basis=0\n",
      "loop=8, size=6x6, theta=4, basis=1\n",
      "loop=8, size=6x6, theta=4, basis=2\n",
      "loop=8, size=6x6, theta=5, basis=0\n",
      "loop=8, size=6x6, theta=5, basis=1\n",
      "loop=8, size=6x6, theta=5, basis=2\n",
      "loop=8, size=6x6, theta=6, basis=0\n",
      "loop=8, size=6x6, theta=6, basis=1\n",
      "loop=8, size=6x6, theta=6, basis=2\n",
      "loop=8, size=6x6, theta=7, basis=0\n",
      "loop=8, size=6x6, theta=7, basis=1\n",
      "loop=8, size=6x6, theta=7, basis=2\n",
      "loop=8, size=6x6, theta=8, basis=0\n",
      "loop=8, size=6x6, theta=8, basis=1\n",
      "loop=8, size=6x6, theta=8, basis=2\n",
      "loop=8, size=6x6, theta=9, basis=0\n",
      "loop=8, size=6x6, theta=9, basis=1\n",
      "loop=8, size=6x6, theta=9, basis=2\n",
      "loop=8, size=6x6, theta=10, basis=0\n",
      "loop=8, size=6x6, theta=10, basis=1\n",
      "loop=8, size=6x6, theta=10, basis=2\n",
      "loop=9, size=6x6, theta=0, basis=0\n",
      "loop=9, size=6x6, theta=0, basis=1\n",
      "loop=9, size=6x6, theta=0, basis=2\n",
      "loop=9, size=6x6, theta=1, basis=0\n",
      "loop=9, size=6x6, theta=1, basis=1\n",
      "loop=9, size=6x6, theta=1, basis=2\n",
      "loop=9, size=6x6, theta=2, basis=0\n",
      "loop=9, size=6x6, theta=2, basis=1\n",
      "loop=9, size=6x6, theta=2, basis=2\n",
      "loop=9, size=6x6, theta=3, basis=0\n",
      "loop=9, size=6x6, theta=3, basis=1\n",
      "loop=9, size=6x6, theta=3, basis=2\n",
      "loop=9, size=6x6, theta=4, basis=0\n",
      "loop=9, size=6x6, theta=4, basis=1\n",
      "loop=9, size=6x6, theta=4, basis=2\n",
      "loop=9, size=6x6, theta=5, basis=0\n",
      "loop=9, size=6x6, theta=5, basis=1\n",
      "loop=9, size=6x6, theta=5, basis=2\n",
      "loop=9, size=6x6, theta=6, basis=0\n",
      "loop=9, size=6x6, theta=6, basis=1\n",
      "loop=9, size=6x6, theta=6, basis=2\n",
      "loop=9, size=6x6, theta=7, basis=0\n",
      "loop=9, size=6x6, theta=7, basis=1\n",
      "loop=9, size=6x6, theta=7, basis=2\n",
      "loop=9, size=6x6, theta=8, basis=0\n",
      "loop=9, size=6x6, theta=8, basis=1\n",
      "loop=9, size=6x6, theta=8, basis=2\n",
      "loop=9, size=6x6, theta=9, basis=0\n",
      "loop=9, size=6x6, theta=9, basis=1\n",
      "loop=9, size=6x6, theta=9, basis=2\n",
      "loop=9, size=6x6, theta=10, basis=0\n",
      "loop=9, size=6x6, theta=10, basis=1\n",
      "loop=9, size=6x6, theta=10, basis=2\n"
     ]
    }
   ],
   "source": [
    "# collect data\n",
    "sampler = sampler_real\n",
    "theta_range = np.linspace(0, np.pi/2, 11)\n",
    "phi = np.pi*(5/4)\n",
    "repetitions = 10**6\n",
    "\n",
    "for i in range(5,10): # loop over 5 times\n",
    "    for theta_idx in range(11):\n",
    "        for b in range(3):\n",
    "            circ = get_circuit(qubits_matrix, theta=theta_range[theta_idx], phi=phi, probe_qubits=probe_qubits, basis=[b], anc_pairs=anc_pairs)\n",
    "            circ.append(cirq.measure(*all_qubits, key='m'))\n",
    "            result = sampler.run(circ, repetitions=repetitions)\n",
    "            hist = result.histogram(key='m')\n",
    "            print(f'loop={i}, size={size}, theta={theta_idx}, basis={b}')\n",
    "            np.save(f'data/{run_name}/single_probe_{i}/data_{size}/hist/theta={theta_idx}_({b}).npy', np.array(list(hist.items()))) # save histogram\n",
    "            torch.save(torch.tensor(result.measurements['m']).to(int), f'data/{run_name}/single_probe_{i}/data_{size}/seq/theta={theta_idx}_({b}).pt') # save sequence"
   ]
  },
  {
   "cell_type": "code",
   "execution_count": 7,
   "metadata": {},
   "outputs": [
    {
     "data": {
      "text/plain": [
       "(1000000, 55)"
      ]
     },
     "execution_count": 7,
     "metadata": {},
     "output_type": "execute_result"
    }
   ],
   "source": [
    "result.measurements['m'].shape"
   ]
  },
  {
   "cell_type": "code",
   "execution_count": null,
   "metadata": {},
   "outputs": [],
   "source": [
    "print(\"Circuit depth:\", len(circ))"
   ]
  },
  {
   "cell_type": "code",
   "execution_count": null,
   "metadata": {},
   "outputs": [],
   "source": [
    "all_qubits"
   ]
  },
  {
   "cell_type": "code",
   "execution_count": null,
   "metadata": {},
   "outputs": [],
   "source": [
    "print(all_qubits[4], all_qubits[10], all_qubits[11])"
   ]
  },
  {
   "cell_type": "code",
   "execution_count": null,
   "metadata": {},
   "outputs": [],
   "source": [
    "print((result.measurements['m'][:,4]==result.measurements['m'][:,11]).mean())\n"
   ]
  },
  {
   "cell_type": "code",
   "execution_count": null,
   "metadata": {},
   "outputs": [],
   "source": [
    "9*10**6/2**23"
   ]
  },
  {
   "cell_type": "code",
   "execution_count": null,
   "metadata": {},
   "outputs": [],
   "source": []
  }
 ],
 "metadata": {
  "kernelspec": {
   "display_name": "base",
   "language": "python",
   "name": "python3"
  },
  "language_info": {
   "codemirror_mode": {
    "name": "ipython",
    "version": 3
   },
   "file_extension": ".py",
   "mimetype": "text/x-python",
   "name": "python",
   "nbconvert_exporter": "python",
   "pygments_lexer": "ipython3",
   "version": "3.10.9"
  }
 },
 "nbformat": 4,
 "nbformat_minor": 2
}
