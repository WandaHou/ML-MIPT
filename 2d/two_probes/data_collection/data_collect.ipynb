{
 "cells": [
  {
   "cell_type": "markdown",
   "metadata": {
    "vscode": {
     "languageId": "raw"
    }
   },
   "source": [
    "# Two-Probe Quantum Experiment Data Collection\n",
    "\n",
    "This notebook collects quantum measurement data from two-probe qubit experiments running on Google's quantum hardware (Willow processors). The experiments involve:\n",
    "\n",
    "- **6x6 qubit lattice** with distance-5 between probe qubits\n",
    "- **Two probe qubits** for measuring quantum correlations\n",
    "- **Variable rotation angles** (theta) from 0 to π/2\n",
    "- **Different measurement bases** (X, Y, Z for each probe)\n",
    "- **Data collection** both with and without randomized compiling for error mitigation\n",
    "\n",
    "The collected measurement data is saved as PyTorch tensors for subsequent analysis of quantum error correction performance and probe qubit correlations.\n"
   ]
  },
  {
   "cell_type": "code",
   "execution_count": 1,
   "metadata": {},
   "outputs": [],
   "source": [
    "import cirq\n",
    "import cirq_google as cg\n",
    "import torch\n",
    "import numpy as np\n",
    "from shallow_cirq_6x6_pink import get_circuit, get_two_qubits_6x6"
   ]
  },
  {
   "cell_type": "code",
   "execution_count": 2,
   "metadata": {},
   "outputs": [],
   "source": [
    "# Import local configuration (not committed to GitHub)\n",
    "try:\n",
    "    from config_local import PROJECT_ID, PROCESSOR_ID, RUN_NAME, DEVICE_CONFIG_NAME, SNAPSHOT_ID\n",
    "    print(\"Using local configuration\")\n",
    "except ImportError:\n",
    "    # Fallback configuration for public repository\n",
    "    PROJECT_ID = 'your-project-id'\n",
    "    PROCESSOR_ID = 'your-processor-id'  \n",
    "    RUN_NAME = 'your-run-name'\n",
    "    DEVICE_CONFIG_NAME = 'your-device-config'\n",
    "    SNAPSHOT_ID = 'your-snapshot-id'\n",
    "    print(\"Using placeholder configuration - update config_local.py with your credentials\")\n",
    "\n",
    "# Set up the real engine and sampler\n",
    "eng = cg.get_engine(PROJECT_ID)\n",
    "sampler_real = eng.get_processor(PROCESSOR_ID).get_sampler(device_config_name=DEVICE_CONFIG_NAME, snapshot_id=SNAPSHOT_ID)"
   ]
  },
  {
   "cell_type": "code",
   "execution_count": 2,
   "metadata": {},
   "outputs": [],
   "source": [
    "# run_name = 'Feb_21_cz_calibration'\n",
    "run_name = 'Feb_24_cz_calibration'\n",
    "eng = cg.get_engine('serious-cat-404923')\n",
    "sampler_real = eng.get_sampler(processor_id='WLA1HHPR00V02_4A_PINK', run_name=run_name, device_config_name='d7')"
   ]
  },
  {
   "cell_type": "code",
   "execution_count": 3,
   "metadata": {},
   "outputs": [],
   "source": [
    "# Set up simulate sampler\n",
    "sampler_sim = cirq.Simulator()"
   ]
  },
  {
   "cell_type": "code",
   "execution_count": 3,
   "metadata": {},
   "outputs": [
    {
     "data": {
      "text/plain": [
       "Counter({3: 513, 0: 478, 1: 5, 2: 4})"
      ]
     },
     "execution_count": 3,
     "metadata": {},
     "output_type": "execute_result"
    }
   ],
   "source": [
    "# test Bell state\n",
    "qubits = [cirq.GridQubit(4,4), cirq.GridQubit(4,5)]\n",
    "cir = cirq.Circuit(cirq.H.on_each(*qubits), cirq.CZ(*qubits), cirq.H(qubits[1]), cirq.M(*qubits, key='m'))\n",
    "result = sampler_real.run(cir, repetitions=1000)\n",
    "result.histogram(key='m')"
   ]
  },
  {
   "cell_type": "markdown",
   "metadata": {},
   "source": [
    "### Two probe qubits experiment"
   ]
  },
  {
   "cell_type": "markdown",
   "metadata": {},
   "source": [
    "#### Get qubits"
   ]
  },
  {
   "cell_type": "code",
   "execution_count": 4,
   "metadata": {},
   "outputs": [
    {
     "name": "stdout",
     "output_type": "stream",
     "text": [
      "60\n"
     ]
    }
   ],
   "source": [
    "#size = '3x3'\n",
    "#size = '5x5'\n",
    "size = '6x6'\n",
    "qubits_matrix, probe_qubits, anc_pairs, all_qubits = get_two_qubits_6x6(d=5)\n",
    "print(len(all_qubits))\n",
    "circ = get_circuit(qubits_matrix, theta=0, phi=0, probe_qubits=probe_qubits, basis=[1,1], anc_pairs=anc_pairs)"
   ]
  },
  {
   "cell_type": "code",
   "execution_count": 5,
   "metadata": {},
   "outputs": [
    {
     "data": {
      "text/plain": [
       "[cirq.GridQubit(3, 4), cirq.GridQubit(3, 8)]"
      ]
     },
     "execution_count": 5,
     "metadata": {},
     "output_type": "execute_result"
    }
   ],
   "source": [
    "probe_qubits"
   ]
  },
  {
   "cell_type": "code",
   "execution_count": null,
   "metadata": {},
   "outputs": [],
   "source": []
  },
  {
   "cell_type": "markdown",
   "metadata": {},
   "source": [
    "#### Collect data"
   ]
  },
  {
   "cell_type": "code",
   "execution_count": 7,
   "metadata": {},
   "outputs": [
    {
     "name": "stdout",
     "output_type": "stream",
     "text": [
      "distance=5, loop=1, size=6x6, theta=10, basis=0,0\n",
      "distance=5, loop=1, size=6x6, theta=10, basis=0,1\n",
      "distance=5, loop=1, size=6x6, theta=10, basis=0,2\n",
      "distance=5, loop=1, size=6x6, theta=10, basis=1,0\n",
      "distance=5, loop=1, size=6x6, theta=10, basis=1,1\n",
      "distance=5, loop=1, size=6x6, theta=10, basis=1,2\n",
      "distance=5, loop=1, size=6x6, theta=10, basis=2,0\n",
      "distance=5, loop=1, size=6x6, theta=10, basis=2,1\n",
      "distance=5, loop=1, size=6x6, theta=10, basis=2,2\n"
     ]
    }
   ],
   "source": [
    "# collect data without randomized compiling\n",
    "sampler = sampler_real\n",
    "theta_range = np.linspace(0, np.pi/2, 11)\n",
    "phi = np.pi*(5/4)\n",
    "repetitions = 10**5\n",
    "folder_name = snapshot_id\n",
    "\n",
    "for d in [5]: \n",
    "    qubits_matrix, probe_qubits, anc_pairs, all_qubits = get_two_qubits_6x6(d=d)\n",
    "    for theta_idx in [8,9,10]:\n",
    "        for i in [1]: # Loop index for data collection runs. Can be set to specific values (e.g., [1], [2,3,4]) to resume collection from certain points after hardware breakdowns or interruptions.\n",
    "            for b1 in range(3):\n",
    "                for b2 in range(3):\n",
    "                    circ = get_circuit(qubits_matrix, theta=theta_range[theta_idx], phi=phi, probe_qubits=probe_qubits, basis=[b1,b2], anc_pairs=anc_pairs)\n",
    "                    circ.append(cirq.measure(*all_qubits, key='m'))\n",
    "                    result = sampler.run(circ, repetitions=repetitions)\n",
    "                    print(f'distance={d}, loop={i}, size={size}, theta={theta_idx}, basis={b1},{b2}')\n",
    "                    measurements = torch.tensor(result.measurements['m']).to(int)\n",
    "                    torch.save(measurements, f'data/{folder_name}_d={d}/theta{theta_idx}/loop{i}/theta={theta_idx}_({b1},{b2}).pt') # save sequence"
   ]
  },
  {
   "cell_type": "code",
   "execution_count": 6,
   "metadata": {},
   "outputs": [
    {
     "name": "stdout",
     "output_type": "stream",
     "text": [
      "distance=5, loop=0, size=6x6, theta=8, basis=0,0\n",
      "distance=5, loop=0, size=6x6, theta=8, basis=0,1\n",
      "distance=5, loop=0, size=6x6, theta=8, basis=0,2\n",
      "distance=5, loop=0, size=6x6, theta=8, basis=1,0\n",
      "distance=5, loop=0, size=6x6, theta=8, basis=1,1\n",
      "distance=5, loop=0, size=6x6, theta=8, basis=1,2\n",
      "distance=5, loop=0, size=6x6, theta=8, basis=2,0\n",
      "distance=5, loop=0, size=6x6, theta=8, basis=2,1\n",
      "distance=5, loop=0, size=6x6, theta=8, basis=2,2\n",
      "distance=5, loop=1, size=6x6, theta=8, basis=0,0\n",
      "distance=5, loop=1, size=6x6, theta=8, basis=0,1\n",
      "distance=5, loop=1, size=6x6, theta=8, basis=0,2\n",
      "distance=5, loop=1, size=6x6, theta=8, basis=1,0\n",
      "distance=5, loop=1, size=6x6, theta=8, basis=1,1\n",
      "distance=5, loop=1, size=6x6, theta=8, basis=1,2\n",
      "distance=5, loop=1, size=6x6, theta=8, basis=2,0\n",
      "distance=5, loop=1, size=6x6, theta=8, basis=2,1\n",
      "distance=5, loop=1, size=6x6, theta=8, basis=2,2\n",
      "distance=5, loop=2, size=6x6, theta=8, basis=0,0\n",
      "distance=5, loop=2, size=6x6, theta=8, basis=0,1\n",
      "distance=5, loop=2, size=6x6, theta=8, basis=0,2\n",
      "distance=5, loop=2, size=6x6, theta=8, basis=1,0\n",
      "distance=5, loop=2, size=6x6, theta=8, basis=1,1\n",
      "distance=5, loop=2, size=6x6, theta=8, basis=1,2\n",
      "distance=5, loop=2, size=6x6, theta=8, basis=2,0\n",
      "distance=5, loop=2, size=6x6, theta=8, basis=2,1\n",
      "distance=5, loop=2, size=6x6, theta=8, basis=2,2\n",
      "distance=5, loop=3, size=6x6, theta=8, basis=0,0\n",
      "distance=5, loop=3, size=6x6, theta=8, basis=0,1\n",
      "distance=5, loop=3, size=6x6, theta=8, basis=0,2\n",
      "distance=5, loop=3, size=6x6, theta=8, basis=1,0\n",
      "distance=5, loop=3, size=6x6, theta=8, basis=1,1\n",
      "distance=5, loop=3, size=6x6, theta=8, basis=1,2\n",
      "distance=5, loop=3, size=6x6, theta=8, basis=2,0\n",
      "distance=5, loop=3, size=6x6, theta=8, basis=2,1\n",
      "distance=5, loop=3, size=6x6, theta=8, basis=2,2\n",
      "distance=5, loop=4, size=6x6, theta=8, basis=0,0\n",
      "distance=5, loop=4, size=6x6, theta=8, basis=0,1\n",
      "distance=5, loop=4, size=6x6, theta=8, basis=0,2\n",
      "distance=5, loop=4, size=6x6, theta=8, basis=1,0\n",
      "distance=5, loop=4, size=6x6, theta=8, basis=1,1\n",
      "distance=5, loop=4, size=6x6, theta=8, basis=1,2\n",
      "distance=5, loop=4, size=6x6, theta=8, basis=2,0\n",
      "distance=5, loop=4, size=6x6, theta=8, basis=2,1\n",
      "distance=5, loop=4, size=6x6, theta=8, basis=2,2\n",
      "distance=5, loop=0, size=6x6, theta=9, basis=0,0\n",
      "distance=5, loop=0, size=6x6, theta=9, basis=0,1\n",
      "distance=5, loop=0, size=6x6, theta=9, basis=0,2\n",
      "distance=5, loop=0, size=6x6, theta=9, basis=1,0\n",
      "distance=5, loop=0, size=6x6, theta=9, basis=1,1\n",
      "distance=5, loop=0, size=6x6, theta=9, basis=1,2\n",
      "distance=5, loop=0, size=6x6, theta=9, basis=2,0\n",
      "distance=5, loop=0, size=6x6, theta=9, basis=2,1\n",
      "distance=5, loop=0, size=6x6, theta=9, basis=2,2\n",
      "distance=5, loop=1, size=6x6, theta=9, basis=0,0\n",
      "distance=5, loop=1, size=6x6, theta=9, basis=0,1\n",
      "distance=5, loop=1, size=6x6, theta=9, basis=0,2\n",
      "distance=5, loop=1, size=6x6, theta=9, basis=1,0\n",
      "distance=5, loop=1, size=6x6, theta=9, basis=1,1\n",
      "distance=5, loop=1, size=6x6, theta=9, basis=1,2\n",
      "distance=5, loop=1, size=6x6, theta=9, basis=2,0\n",
      "distance=5, loop=1, size=6x6, theta=9, basis=2,1\n",
      "distance=5, loop=1, size=6x6, theta=9, basis=2,2\n",
      "distance=5, loop=2, size=6x6, theta=9, basis=0,0\n",
      "distance=5, loop=2, size=6x6, theta=9, basis=0,1\n",
      "distance=5, loop=2, size=6x6, theta=9, basis=0,2\n",
      "distance=5, loop=2, size=6x6, theta=9, basis=1,0\n",
      "distance=5, loop=2, size=6x6, theta=9, basis=1,1\n",
      "distance=5, loop=2, size=6x6, theta=9, basis=1,2\n",
      "distance=5, loop=2, size=6x6, theta=9, basis=2,0\n",
      "distance=5, loop=2, size=6x6, theta=9, basis=2,1\n",
      "distance=5, loop=2, size=6x6, theta=9, basis=2,2\n",
      "distance=5, loop=3, size=6x6, theta=9, basis=0,0\n",
      "distance=5, loop=3, size=6x6, theta=9, basis=0,1\n",
      "distance=5, loop=3, size=6x6, theta=9, basis=0,2\n",
      "distance=5, loop=3, size=6x6, theta=9, basis=1,0\n",
      "distance=5, loop=3, size=6x6, theta=9, basis=1,1\n",
      "distance=5, loop=3, size=6x6, theta=9, basis=1,2\n",
      "distance=5, loop=3, size=6x6, theta=9, basis=2,0\n",
      "distance=5, loop=3, size=6x6, theta=9, basis=2,1\n",
      "distance=5, loop=3, size=6x6, theta=9, basis=2,2\n",
      "distance=5, loop=4, size=6x6, theta=9, basis=0,0\n",
      "distance=5, loop=4, size=6x6, theta=9, basis=0,1\n",
      "distance=5, loop=4, size=6x6, theta=9, basis=0,2\n",
      "distance=5, loop=4, size=6x6, theta=9, basis=1,0\n",
      "distance=5, loop=4, size=6x6, theta=9, basis=1,1\n",
      "distance=5, loop=4, size=6x6, theta=9, basis=1,2\n",
      "distance=5, loop=4, size=6x6, theta=9, basis=2,0\n",
      "distance=5, loop=4, size=6x6, theta=9, basis=2,1\n",
      "distance=5, loop=4, size=6x6, theta=9, basis=2,2\n",
      "distance=5, loop=0, size=6x6, theta=10, basis=0,0\n",
      "distance=5, loop=0, size=6x6, theta=10, basis=0,1\n",
      "distance=5, loop=0, size=6x6, theta=10, basis=0,2\n",
      "distance=5, loop=0, size=6x6, theta=10, basis=1,0\n",
      "distance=5, loop=0, size=6x6, theta=10, basis=1,1\n",
      "distance=5, loop=0, size=6x6, theta=10, basis=1,2\n",
      "distance=5, loop=0, size=6x6, theta=10, basis=2,0\n",
      "distance=5, loop=0, size=6x6, theta=10, basis=2,1\n",
      "distance=5, loop=0, size=6x6, theta=10, basis=2,2\n",
      "distance=5, loop=1, size=6x6, theta=10, basis=0,0\n",
      "distance=5, loop=1, size=6x6, theta=10, basis=0,1\n",
      "distance=5, loop=1, size=6x6, theta=10, basis=0,2\n",
      "distance=5, loop=1, size=6x6, theta=10, basis=1,0\n",
      "distance=5, loop=1, size=6x6, theta=10, basis=1,1\n",
      "distance=5, loop=1, size=6x6, theta=10, basis=1,2\n",
      "distance=5, loop=1, size=6x6, theta=10, basis=2,0\n",
      "distance=5, loop=1, size=6x6, theta=10, basis=2,1\n",
      "distance=5, loop=1, size=6x6, theta=10, basis=2,2\n",
      "distance=5, loop=2, size=6x6, theta=10, basis=0,0\n",
      "distance=5, loop=2, size=6x6, theta=10, basis=0,1\n",
      "distance=5, loop=2, size=6x6, theta=10, basis=0,2\n",
      "distance=5, loop=2, size=6x6, theta=10, basis=1,0\n",
      "distance=5, loop=2, size=6x6, theta=10, basis=1,1\n",
      "distance=5, loop=2, size=6x6, theta=10, basis=1,2\n",
      "distance=5, loop=2, size=6x6, theta=10, basis=2,0\n",
      "distance=5, loop=2, size=6x6, theta=10, basis=2,1\n",
      "distance=5, loop=2, size=6x6, theta=10, basis=2,2\n",
      "distance=5, loop=3, size=6x6, theta=10, basis=0,0\n",
      "distance=5, loop=3, size=6x6, theta=10, basis=0,1\n",
      "distance=5, loop=3, size=6x6, theta=10, basis=0,2\n",
      "distance=5, loop=3, size=6x6, theta=10, basis=1,0\n",
      "distance=5, loop=3, size=6x6, theta=10, basis=1,1\n",
      "distance=5, loop=3, size=6x6, theta=10, basis=1,2\n",
      "distance=5, loop=3, size=6x6, theta=10, basis=2,0\n",
      "distance=5, loop=3, size=6x6, theta=10, basis=2,1\n",
      "distance=5, loop=3, size=6x6, theta=10, basis=2,2\n",
      "distance=5, loop=4, size=6x6, theta=10, basis=0,0\n",
      "distance=5, loop=4, size=6x6, theta=10, basis=0,1\n",
      "distance=5, loop=4, size=6x6, theta=10, basis=0,2\n",
      "distance=5, loop=4, size=6x6, theta=10, basis=1,0\n",
      "distance=5, loop=4, size=6x6, theta=10, basis=1,1\n",
      "distance=5, loop=4, size=6x6, theta=10, basis=1,2\n",
      "distance=5, loop=4, size=6x6, theta=10, basis=2,0\n",
      "distance=5, loop=4, size=6x6, theta=10, basis=2,1\n",
      "distance=5, loop=4, size=6x6, theta=10, basis=2,2\n"
     ]
    }
   ],
   "source": [
    "# collect data with randomized compiling\n",
    "sampler = sampler_real\n",
    "theta_range = np.linspace(0, np.pi/2, 11)\n",
    "phi = np.pi*(5/4)\n",
    "repetitions = 10**6\n",
    "num_rc_circuits = 20\n",
    "folder_name = snapshot_id\n",
    "\n",
    "for d in [5]: \n",
    "    qubits_matrix, probe_qubits, anc_pairs, all_qubits = get_two_qubits_6x6(d=d)\n",
    "    for theta_idx in [8,9,10]:\n",
    "        for i in range(5):\n",
    "            for b1 in range(3):\n",
    "                for b2 in range(3):\n",
    "                    circ = get_circuit(qubits_matrix, theta=theta_range[theta_idx], phi=phi, probe_qubits=probe_qubits, basis=[b1,b2], anc_pairs=anc_pairs)\n",
    "                    circ.append(cirq.measure(*all_qubits, key='m'))\n",
    "                    circuit_batch = [cirq.transformers.gauge_compiling.CZGaugeTransformer(circ) for _ in range(num_rc_circuits)]\n",
    "                    circuit_batch = [cirq.merge_single_qubit_moments_to_phxz(circuit) for circuit in circuit_batch]\n",
    "                    result = sampler.run_batch(circuit_batch, repetitions=int(repetitions/num_rc_circuits))\n",
    "                    print(f'distance={d}, loop={i}, size={size}, theta={theta_idx}, basis={b1},{b2}')\n",
    "                    measurements = torch.cat([torch.tensor(r[0].measurements['m']).to(int) for r in result])\n",
    "                    torch.save(measurements, f'data/{folder_name}_d={d}/theta{theta_idx}/loop{i}/theta={theta_idx}_({b1},{b2}).pt') # save sequence"
   ]
  },
  {
   "cell_type": "code",
   "execution_count": 36,
   "metadata": {},
   "outputs": [
    {
     "data": {
      "text/plain": [
       "torch.Size([100000, 60])"
      ]
     },
     "execution_count": 36,
     "metadata": {},
     "output_type": "execute_result"
    }
   ],
   "source": [
    "measurements.shape"
   ]
  },
  {
   "cell_type": "code",
   "execution_count": null,
   "metadata": {},
   "outputs": [],
   "source": [
    "print(\"Circuit depth:\", len(circ))\n",
    "#print(circ)"
   ]
  },
  {
   "cell_type": "code",
   "execution_count": null,
   "metadata": {},
   "outputs": [],
   "source": [
    "all_qubits"
   ]
  },
  {
   "cell_type": "code",
   "execution_count": null,
   "metadata": {},
   "outputs": [],
   "source": [
    "print(all_qubits[0], all_qubits[2], all_qubits[8])\n",
    "print(all_qubits[-1], all_qubits[-4], all_qubits[-9])"
   ]
  },
  {
   "cell_type": "code",
   "execution_count": null,
   "metadata": {},
   "outputs": [],
   "source": [
    "print((result.measurements['m'][:,-1]==result.measurements['m'][:,-9]).mean())\n"
   ]
  }
 ],
 "metadata": {
  "kernelspec": {
   "display_name": "base",
   "language": "python",
   "name": "python3"
  },
  "language_info": {
   "codemirror_mode": {
    "name": "ipython",
    "version": 3
   },
   "file_extension": ".py",
   "mimetype": "text/x-python",
   "name": "python",
   "nbconvert_exporter": "python",
   "pygments_lexer": "ipython3",
   "version": "3.11.11"
  }
 },
 "nbformat": 4,
 "nbformat_minor": 2
}
